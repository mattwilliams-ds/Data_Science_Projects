{
 "cells": [
  {
   "cell_type": "markdown",
   "id": "1bb44526-b90d-4235-99f9-d0ef44439bf2",
   "metadata": {},
   "source": [
    "# Vehicular Crashes in Longmont, Colorado\n",
    "\n",
    "This script reads in vehicle crash data spreadsheets downloaded from CDOT. It cleans and processes the data from crashes in Longmont only and concatenates data over several years to create a single CSV time series.\n",
    "\n",
    "Source: https://www.codot.gov/safety/traffic-safety/data-analysis/crash-data"
   ]
  },
  {
   "cell_type": "markdown",
   "id": "d74293ce-9120-4dec-a79f-a7bacb05d0dc",
   "metadata": {},
   "source": [
    "## 1. Import Libraries"
   ]
  },
  {
   "cell_type": "code",
   "execution_count": 1,
   "id": "39ffca6e-d6a5-44fe-b2fe-330f4ee7d152",
   "metadata": {},
   "outputs": [],
   "source": [
    "import pandas as pd\n",
    "import numpy as np\n",
    "import requests\n",
    "import time\n",
    "import json\n",
    "import os"
   ]
  },
  {
   "cell_type": "markdown",
   "id": "4638cda4-5e06-4e15-addc-7d5500e0a61b",
   "metadata": {},
   "source": [
    "## 2. Preliminary Setup"
   ]
  },
  {
   "cell_type": "code",
   "execution_count": 2,
   "id": "4333e186-83c1-446b-af18-8f9e0cebe883",
   "metadata": {},
   "outputs": [],
   "source": [
    "# input file list (2021 & newer only, older files follow a different format)\n",
    "files = ['CDOTRM_CD_Crash_Listing_-_2021.xlsx',\n",
    "         'CDOTRM_CD_Crash_Listing_-_2022.xlsx',\n",
    "         'CDOTRM_CD_Crash_Listing_-_2023.xlsx',\n",
    "         'CDOTRM_CD_Crash_Listing_-_2024.xlsx'\n",
    "        ]\n",
    "\n",
    "# create an empty dataframe to populate with each year's data\n",
    "all_crashes = pd.DataFrame()\n",
    "\n",
    "# read my API key from text file for geocode.maps.co\n",
    "with open('google_map_api_key.txt') as fp:\n",
    "    my_api_key = fp.read().replace('\\n','')"
   ]
  },
  {
   "cell_type": "markdown",
   "id": "636fefea-14ec-4679-a7d1-71c512e67fb1",
   "metadata": {},
   "source": [
    "## 3. Define Functions"
   ]
  },
  {
   "cell_type": "code",
   "execution_count": 3,
   "id": "651db5a5-bd0f-41b6-8eaa-04ef4d4134c6",
   "metadata": {},
   "outputs": [],
   "source": [
    "def process_crashes(crashes):\n",
    "    # Save only crashes in Longmont\n",
    "    crashes = crashes.loc[crashes.City == 'LONGMONT'].copy()\n",
    "\n",
    "    # replace CUID with year-CUID\n",
    "    crashes['CUID'] = crashes['Crash Date'].dt.year.astype(str)+'-'+crashes['CUID'].astype(str)\n",
    "\n",
    "    # Fill nan values with empty string\n",
    "    crashes = crashes.fillna('')\n",
    "    \n",
    "    return crashes\n",
    "\n",
    "def geocode_with_google(address, api_key):\n",
    "    # A function to call Google Maps API & geocode an intersection\n",
    "    base_url = \"https://maps.googleapis.com/maps/api/geocode/json\"\n",
    "    params = {\n",
    "        'address': address,\n",
    "        'key': api_key\n",
    "    }\n",
    "\n",
    "    try:\n",
    "        response = requests.get(base_url, params=params, timeout=10)\n",
    "        response.raise_for_status()\n",
    "        data = response.json()\n",
    "\n",
    "        if data['status'] == 'OK':\n",
    "            result = data['results'][0]['geometry']['location']\n",
    "            return result['lat'], result['lng']\n",
    "        else:\n",
    "            print(f\"Geocoding failed: {data['status']} - {data.get('error_message', '')}\")\n",
    "            return None\n",
    "\n",
    "    except requests.RequestException as e:\n",
    "        print(f\"Request failed: {e}\")\n",
    "        return None\n",
    "\n",
    "\n",
    "# Functions that return an existing coordinate or, if missing, looks up the coordinate\n",
    "#    in the dictionary of geocoded intersections\n",
    "def get_lat(intersection, current_lat):\n",
    "    if pd.notnull(current_lat):\n",
    "        return current_lat\n",
    "    return geocoded_intersections.get(intersection, (None, None))[0]\n",
    "\n",
    "def get_long(intersection, current_long):\n",
    "    if pd.notnull(current_long):\n",
    "        return current_long\n",
    "    return geocoded_intersections.get(intersection, (None, None))[1]"
   ]
  },
  {
   "cell_type": "markdown",
   "id": "be869c4c-1c73-440a-bac8-eada289842c7",
   "metadata": {},
   "source": [
    "## 4. Compile Data into a Single DataFrame"
   ]
  },
  {
   "cell_type": "code",
   "execution_count": 4,
   "id": "bec05f39-b522-4e3a-8b56-b417a82de508",
   "metadata": {},
   "outputs": [
    {
     "name": "stdout",
     "output_type": "stream",
     "text": [
      "Processing:\n",
      "\tCDOTRM_CD_Crash_Listing_-_2021.xlsx\n",
      "\tCDOTRM_CD_Crash_Listing_-_2022.xlsx\n",
      "\tCDOTRM_CD_Crash_Listing_-_2023.xlsx\n",
      "\tCDOTRM_CD_Crash_Listing_-_2024.xlsx\n",
      "Finished\n"
     ]
    }
   ],
   "source": [
    "print('Processing:')\n",
    "\n",
    "for file in files:\n",
    "\n",
    "    print('\\t'+file)\n",
    "    \n",
    "    # read each file into a dataframe (calamine engine is many times faster than the default\n",
    "    #    openpyxl engine\n",
    "    temp_df = pd.read_excel(file, header = 0, engine='calamine')\n",
    "\n",
    "    # call function to clean data\n",
    "    processed_df = process_crashes(temp_df)\n",
    "\n",
    "    # concatenate newly processed dataframe to previously cleaned data\n",
    "    all_crashes = pd.concat([all_crashes, processed_df], ignore_index = True)\n",
    "\n",
    "print('Finished')"
   ]
  },
  {
   "cell_type": "markdown",
   "id": "93c6740f-a93a-4bfa-bf22-b1f5657b9a0e",
   "metadata": {},
   "source": [
    "## 5. Clean Data\n",
    "\n",
    "### 5.1 Remove Spaces & Dashes from Column Names"
   ]
  },
  {
   "cell_type": "code",
   "execution_count": 5,
   "id": "3df359a1-5ae3-4807-95c5-9a9e991cb8bf",
   "metadata": {},
   "outputs": [],
   "source": [
    "all_crashes.columns = all_crashes.columns.str.replace('  ', '_') # replace double spaces with underscores\n",
    "all_crashes.columns = all_crashes.columns.str.replace(' ', '_')  # replace spaces with underscores\n",
    "all_crashes.columns = all_crashes.columns.str.replace('-', '')   # remove dashes\n",
    "all_crashes.columns = all_crashes.columns.str.rstrip('_')        # remove trailing underscores"
   ]
  },
  {
   "cell_type": "markdown",
   "id": "32a51549-7943-476c-b6f3-b66e2a22f424",
   "metadata": {},
   "source": [
    "### 5.2 Drop Unwanted Columns"
   ]
  },
  {
   "cell_type": "code",
   "execution_count": 6,
   "id": "efb17432-8288-4ae8-969e-cff64942b1fd",
   "metadata": {},
   "outputs": [],
   "source": [
    "# Create a list of unwanted columns to drop\n",
    "drop_columns = ['Agency_Id',\n",
    "                'City',\n",
    "                'County',\n",
    "                'Rd_Section',\n",
    "                'Rd_Number',\n",
    "                'Record_Status',\n",
    "                'Processing_Status',\n",
    "                'Last_Updated',\n",
    "                'Link'\n",
    "               ]\n",
    "\n",
    "all_crashes.drop(drop_columns, inplace=True, axis=1)"
   ]
  },
  {
   "cell_type": "markdown",
   "id": "c3c024da-42aa-4888-b0d0-87435c36b51c",
   "metadata": {},
   "source": [
    "### 5.3 Standardize Attribute Values\n",
    "\n",
    "#### 5.3.1 Street Names\n",
    "\n",
    "The following code block standardizes street names by removing directions and abbreviations. For example, each of the following:\n",
    "\n",
    "* E 9TH AVE\n",
    "* E. 9TH AVE.\n",
    "* 9TH AVE E\n",
    "* etc\n",
    "\n",
    "will all be standardized to 9TH AVE"
   ]
  },
  {
   "cell_type": "code",
   "execution_count": 7,
   "id": "63d4eb97-3ce3-4262-8818-57e3e03be0f6",
   "metadata": {},
   "outputs": [],
   "source": [
    "pattern = '|'.join(['[a-zA-Z]*\\. ', '\\.$',                  # abbreviations\n",
    "                    '\\AS ',  '\\AE ',  '\\AW ',  '\\AN ',      # Direction at start of string folled by a space\n",
    "                     ' S$',   ' E$',   ' W$',   ' N$',      # Direction at end of string preceeded by a space\n",
    "                     ' EB$', ' WB$', ' NB$', ' SB$'         # more street directions\n",
    "                     ])\n",
    "\n",
    "all_crashes['Location_1'] = all_crashes['Location_1'].str.replace(pattern, '', regex=True)\n",
    "all_crashes['Location_2'] = all_crashes['Location_2'].str.replace(pattern, '', regex=True)"
   ]
  },
  {
   "cell_type": "markdown",
   "id": "df9e5b3d-71e8-427b-b41a-b9f5e97c8bd0",
   "metadata": {},
   "source": [
    "Next, street name simplifications are made. Ken Pratt goes by many names in the data set so the easiest solution is to shorten any version of that street name to just Ken Pratt. From there street types are abbreviated to consolidate versions of street names."
   ]
  },
  {
   "cell_type": "code",
   "execution_count": 8,
   "id": "9537d0a7-9cb4-4fa6-b349-eec930c90240",
   "metadata": {},
   "outputs": [],
   "source": [
    "location_replacements = {\n",
    "    'KEN PRATT': 'KEN PRATT',\n",
    "    'BOULEVARD': 'BLVD',\n",
    "    'ROAD': 'RD',\n",
    "    'STREET': 'ST',\n",
    "    'AVENUE': 'AVE',\n",
    "    'DRIVE': 'DR',\n",
    "    'CIRCLE': 'CIR',\n",
    "    'COURT': 'CT'\n",
    "}\n",
    "\n",
    "for i in location_replacements:\n",
    "    all_crashes.loc[all_crashes['Location_1'].str.contains(i), 'Location_1'] = location_replacements[i]\n",
    "    all_crashes.loc[all_crashes['Location_2'].str.contains(i), 'Location_2'] = location_replacements[i]\n",
    "\n",
    "all_crashes['Location_1'] = all_crashes['Location_1'].str.lstrip()\n",
    "all_crashes['Location_1'] = all_crashes['Location_1'].str.rstrip()\n",
    "all_crashes['Location_2'] = all_crashes['Location_2'].str.lstrip()\n",
    "all_crashes['Location_2'] = all_crashes['Location_2'].str.rstrip()"
   ]
  },
  {
   "cell_type": "markdown",
   "id": "7ac5a540-5d96-422a-b085-0422345b200b",
   "metadata": {},
   "source": [
    "#### 5.3.2 Substance Use\n",
    "\n",
    "All variations of yes and no values for suspected alcohol, marijuana, or other drugs are replaced with simply 'Yes' or 'No'."
   ]
  },
  {
   "cell_type": "code",
   "execution_count": 9,
   "id": "b9340e49-1af6-47f3-93d8-734c79e9a900",
   "metadata": {},
   "outputs": [],
   "source": [
    "substances = ['TU1_Alcohol_Suspected', 'TU2_Alcohol_Suspected',\n",
    "              'TU1_Marijuana_Suspected', 'TU2_Marijuana_Suspected',\n",
    "              'TU1_Other_Drugs_Suspected', 'TU2_Other_Drugs_Suspected']\n",
    "\n",
    "for i in substances:\n",
    "    all_crashes.loc[all_crashes[i].str.contains('Yes'), i] = 'Yes'\n",
    "    all_crashes.loc[all_crashes[i].str.contains('No'), i] = 'No'\n",
    "    all_crashes.loc[all_crashes[i].str.contains('Marijuana Suspected'), i] = 'Yes'"
   ]
  },
  {
   "cell_type": "markdown",
   "id": "7eaf88ac-a633-432a-920a-98da099a04a9",
   "metadata": {},
   "source": [
    "## 6. Create Calculated Data Columns\n",
    "\n",
    "### 6.1 Create New Location Columns\n",
    "\n",
    "In order to reduce duplicate intersections, new location columns are needed such that location 1 is always less than location 2 in lexicographical order. This eliminiates duplicates such as (*3rd Ave and Main St*) and (*Main St and 3rd Ave*)."
   ]
  },
  {
   "cell_type": "code",
   "execution_count": 10,
   "id": "008032f1-ad99-41ec-8b7e-996f07f8751b",
   "metadata": {},
   "outputs": [],
   "source": [
    "all_crashes['Location_A'] = all_crashes[['Location_1','Location_2']].min(axis=1)\n",
    "all_crashes['Location_B'] = all_crashes[['Location_1','Location_2']].max(axis=1)\n",
    "all_crashes.drop(['Location_1','Location_2'], inplace=True, axis=1)"
   ]
  },
  {
   "cell_type": "markdown",
   "id": "5cf1d079-f240-4687-a0f6-709608bf586a",
   "metadata": {},
   "source": [
    "### 6.2 Create a Column for the Roadway Intersection\n",
    "\n",
    "This column will contain the cross strees of each accident as well as the city and state formatted such that the value may be submitted to the Google Maps API for geocoding."
   ]
  },
  {
   "cell_type": "code",
   "execution_count": 11,
   "id": "a0d656cb-4e6d-4715-8312-f38673460a2c",
   "metadata": {},
   "outputs": [],
   "source": [
    "# Add a column with the nearest intersection to the accident\n",
    "all_crashes['intersection'] = all_crashes['Location_A'] + ' and ' + all_crashes['Location_B'] + ', Longmont, CO'"
   ]
  },
  {
   "cell_type": "code",
   "execution_count": 12,
   "id": "e798b810-6308-4084-91cc-433221cee9af",
   "metadata": {},
   "outputs": [
    {
     "name": "stdout",
     "output_type": "stream",
     "text": [
      "\n",
      "Number of accidents with no Lat & Long:  1848\n",
      "Number of unique intersections among accidents w/out location:  810\n",
      "Time to query (minutes):  4.0\n"
     ]
    }
   ],
   "source": [
    "# show number of crashes w/ missing lat & long\n",
    "n_missing_loc = len(all_crashes[all_crashes.iloc[:, 5]==''])\n",
    "print('\\nNumber of accidents with no Lat & Long: ', n_missing_loc)\n",
    "\n",
    "# number of unique intersections to geocode\n",
    "unique_intersections = all_crashes[all_crashes.iloc[:, 5]==''].intersection.unique()\n",
    "n_intersections = len(unique_intersections)\n",
    "print('Number of unique intersections among accidents w/out location: ', n_intersections)\n",
    "print('Time to query (minutes): ', round(n_intersections*0.3/60,1))"
   ]
  },
  {
   "cell_type": "markdown",
   "id": "90ffb526-d5d8-4c1b-bbd8-0b9187ae637d",
   "metadata": {},
   "source": [
    "### 6.3 Create Column with Speeding Flag\n",
    "\n",
    "Flag accidents where vehicle speed exceeds speed limit."
   ]
  },
  {
   "cell_type": "code",
   "execution_count": 13,
   "id": "fae43f08-0ce1-421e-bc91-88cce30973e3",
   "metadata": {},
   "outputs": [],
   "source": [
    "# Flag accidents where vehicles were speeding (1=yes, 0=no)\n",
    "all_crashes['TU1_Speeding'] = np.where(all_crashes['TU1_Estimated_Speed'] > all_crashes['TU1_Speed_Limit'], 1, 0)\n",
    "all_crashes['TU2_Speeding'] = np.where(all_crashes['TU2_Estimated_Speed'] > all_crashes['TU2_Speed_Limit'], 1, 0)"
   ]
  },
  {
   "cell_type": "markdown",
   "id": "d8aa6d82-e3a5-4456-ab64-e9d09bb74c0e",
   "metadata": {},
   "source": [
    "## 7. Use Google Maps API to Geocode Unique Intersections"
   ]
  },
  {
   "cell_type": "code",
   "execution_count": 14,
   "id": "5f6f18c9-82c4-4984-b40d-f2a463bc02f5",
   "metadata": {},
   "outputs": [
    {
     "name": "stdout",
     "output_type": "stream",
     "text": [
      "No geocoded intersection file found, geocoding w/ Google API now...\n",
      "Completed:\n",
      "\t25%\n",
      "\t50%\n",
      "\t75%\n",
      "\t100%\n"
     ]
    }
   ],
   "source": [
    "# Name of file storing geocoded intersections\n",
    "geocoded_intersections_json = 'geocoded_intersections.json'\n",
    "\n",
    "# Check for geocoded intersection file & load it\n",
    "if os.path.exists(geocoded_intersections_json):\n",
    "    \n",
    "    with open('geocoded_intersections.json', 'r') as f:\n",
    "        geocoded_intersections = json.load(f)\n",
    "    \n",
    "    geocoded_intersections = {k: tuple(v) for k, v in geocoded_intersections.items()}\n",
    "    \n",
    "    print('Loaded geocoded intersections')\n",
    "    \n",
    "else:\n",
    "    print('No geocoded intersection file found, geocoding w/ Google API now...')\n",
    "\n",
    "    print('Completed:')\n",
    "    \n",
    "    geocoded_intersections = {}         # an empty dictionary to store intersection: (lat, long) pairs\n",
    "\n",
    "    # variables used to print percent complete during geocoding\n",
    "    quarters = [0.25, 0.5, 0.75, 1.0]\n",
    "    next_quarter_index = 0\n",
    "    \n",
    "    for i, intersection in enumerate(unique_intersections, start=1):\n",
    "        coordinates = geocode_with_google(intersection, my_api_key)\n",
    "        if coordinates:\n",
    "            lat = coordinates[0]\n",
    "            long = coordinates[1]\n",
    "            #print(coordinates) # for testing\n",
    "        geocoded_intersections[intersection] = (lat, long)\n",
    "\n",
    "        time.sleep(0.3)\n",
    "\n",
    "        if next_quarter_index < len(quarters) and i >= n_intersections * quarters[next_quarter_index]:\n",
    "            print(f\"\\t{int(quarters[next_quarter_index] * 100)}%\")\n",
    "            next_quarter_index += 1\n",
    "    \n",
    "    # write geocoded data to json file for later use\n",
    "    with open('geocoded_intersections.json', 'w') as file:\n",
    "        json.dump(geocoded_intersections, file)\n"
   ]
  },
  {
   "cell_type": "markdown",
   "id": "cad7620b-084c-4cf1-8704-3e9ade58c3fb",
   "metadata": {},
   "source": [
    "## 8. Populate Geocoded Results for Records Missing Latitude & Longitude\n",
    "\n",
    "Now that all crash intersections have been geocoded, the latitude & longitude values in the dataframe can be populated."
   ]
  },
  {
   "cell_type": "code",
   "execution_count": 15,
   "id": "7686f9b0-4149-454c-924d-ab8e72d8b705",
   "metadata": {},
   "outputs": [],
   "source": [
    "all_crashes['Latitude'] = all_crashes.apply(\n",
    "    lambda row: row['Latitude'] if pd.notnull(row['Latitude']) and row['Latitude'] != ''\n",
    "    else geocoded_intersections.get(row['intersection'], (None, None))[0],\n",
    "    axis=1\n",
    ")\n",
    "\n",
    "all_crashes['Longitude'] = all_crashes.apply(\n",
    "    lambda row: row['Longitude'] if pd.notnull(row['Longitude']) and row['Longitude'] != ''\n",
    "    else geocoded_intersections.get(row['intersection'], (None, None))[1],\n",
    "    axis=1\n",
    ")"
   ]
  },
  {
   "cell_type": "markdown",
   "id": "a4f4423c-9509-4684-bca1-01324d0709b7",
   "metadata": {},
   "source": [
    "## 9. Write Cleaned Data to CSV"
   ]
  },
  {
   "cell_type": "code",
   "execution_count": 16,
   "id": "eefe5c51-212b-4b0b-91f3-f5efd1709d22",
   "metadata": {},
   "outputs": [],
   "source": [
    "# write everything to csv\n",
    "all_crashes.to_csv('longmont_crashes_v02.csv', sep=',')"
   ]
  },
  {
   "cell_type": "code",
   "execution_count": 17,
   "id": "56ba42d8-338f-4dd6-a8be-03b4ce1e219f",
   "metadata": {},
   "outputs": [
    {
     "data": {
      "text/html": [
       "<div>\n",
       "<style scoped>\n",
       "    .dataframe tbody tr th:only-of-type {\n",
       "        vertical-align: middle;\n",
       "    }\n",
       "\n",
       "    .dataframe tbody tr th {\n",
       "        vertical-align: top;\n",
       "    }\n",
       "\n",
       "    .dataframe thead th {\n",
       "        text-align: right;\n",
       "    }\n",
       "</style>\n",
       "<table border=\"1\" class=\"dataframe\">\n",
       "  <thead>\n",
       "    <tr style=\"text-align: right;\">\n",
       "      <th></th>\n",
       "      <th>CUID</th>\n",
       "      <th>System_Code</th>\n",
       "      <th>City_Street</th>\n",
       "      <th>Crash_Date</th>\n",
       "      <th>Crash_Time</th>\n",
       "      <th>Latitude</th>\n",
       "      <th>Longitude</th>\n",
       "      <th>Location</th>\n",
       "      <th>Road_Description</th>\n",
       "      <th>First_HE</th>\n",
       "      <th>...</th>\n",
       "      <th>TU2_NM_Alcohol_Suspected</th>\n",
       "      <th>TU1_NM_Marijuana_Suspected</th>\n",
       "      <th>TU2_NM_Marijuana_Suspected</th>\n",
       "      <th>TU1_NM_Other_Drugs_Suspected</th>\n",
       "      <th>TU2_NM_Other_Drugs_Suspected</th>\n",
       "      <th>Location_A</th>\n",
       "      <th>Location_B</th>\n",
       "      <th>intersection</th>\n",
       "      <th>TU1_Speeding</th>\n",
       "      <th>TU2_Speeding</th>\n",
       "    </tr>\n",
       "  </thead>\n",
       "  <tbody>\n",
       "    <tr>\n",
       "      <th>0</th>\n",
       "      <td>2021-40665</td>\n",
       "      <td>City Street</td>\n",
       "      <td>HOVER</td>\n",
       "      <td>2021-01-02</td>\n",
       "      <td>17:04:00</td>\n",
       "      <td>40.167007</td>\n",
       "      <td>-105.130895</td>\n",
       "      <td>On Roadway</td>\n",
       "      <td>At Intersection</td>\n",
       "      <td>Front to Side</td>\n",
       "      <td>...</td>\n",
       "      <td></td>\n",
       "      <td></td>\n",
       "      <td></td>\n",
       "      <td></td>\n",
       "      <td></td>\n",
       "      <td>9TH AVE</td>\n",
       "      <td>HOVER ST</td>\n",
       "      <td>9TH AVE and HOVER ST, Longmont, CO</td>\n",
       "      <td>0</td>\n",
       "      <td>0</td>\n",
       "    </tr>\n",
       "    <tr>\n",
       "      <th>1</th>\n",
       "      <td>2021-41331</td>\n",
       "      <td>City Street</td>\n",
       "      <td>MAINS</td>\n",
       "      <td>2021-01-03</td>\n",
       "      <td>14:19:00</td>\n",
       "      <td>40.199466</td>\n",
       "      <td>-105.104269</td>\n",
       "      <td>On Roadway</td>\n",
       "      <td>Driveway Access Related</td>\n",
       "      <td>Front to Front</td>\n",
       "      <td>...</td>\n",
       "      <td></td>\n",
       "      <td></td>\n",
       "      <td></td>\n",
       "      <td></td>\n",
       "      <td></td>\n",
       "      <td>23RD AVE</td>\n",
       "      <td>MAIN ST</td>\n",
       "      <td>23RD AVE and MAIN ST, Longmont, CO</td>\n",
       "      <td>0</td>\n",
       "      <td>0</td>\n",
       "    </tr>\n",
       "    <tr>\n",
       "      <th>2</th>\n",
       "      <td>2021-41336</td>\n",
       "      <td>City Street</td>\n",
       "      <td>3RDAV</td>\n",
       "      <td>2021-01-03</td>\n",
       "      <td>18:09:00</td>\n",
       "      <td>40.166961</td>\n",
       "      <td>-105.130811</td>\n",
       "      <td>On Roadway</td>\n",
       "      <td>At Intersection</td>\n",
       "      <td>Front to Front</td>\n",
       "      <td>...</td>\n",
       "      <td></td>\n",
       "      <td></td>\n",
       "      <td></td>\n",
       "      <td></td>\n",
       "      <td></td>\n",
       "      <td>3RD AVE</td>\n",
       "      <td>HOVER ST</td>\n",
       "      <td>3RD AVE and HOVER ST, Longmont, CO</td>\n",
       "      <td>0</td>\n",
       "      <td>0</td>\n",
       "    </tr>\n",
       "    <tr>\n",
       "      <th>3</th>\n",
       "      <td>2021-40743</td>\n",
       "      <td>City Street</td>\n",
       "      <td>KENPR</td>\n",
       "      <td>2021-01-04</td>\n",
       "      <td>11:10:00</td>\n",
       "      <td>40.141876</td>\n",
       "      <td>-105.130777</td>\n",
       "      <td>On Roadway</td>\n",
       "      <td>Non-Intersection</td>\n",
       "      <td>Front to Rear</td>\n",
       "      <td>...</td>\n",
       "      <td></td>\n",
       "      <td></td>\n",
       "      <td></td>\n",
       "      <td></td>\n",
       "      <td></td>\n",
       "      <td>HOVER ST</td>\n",
       "      <td>KEN PRATT</td>\n",
       "      <td>HOVER ST and KEN PRATT, Longmont, CO</td>\n",
       "      <td>0</td>\n",
       "      <td>0</td>\n",
       "    </tr>\n",
       "    <tr>\n",
       "      <th>4</th>\n",
       "      <td>2021-41333</td>\n",
       "      <td>City Street</td>\n",
       "      <td>WARRE</td>\n",
       "      <td>2021-01-05</td>\n",
       "      <td>09:45:00</td>\n",
       "      <td>40.174925</td>\n",
       "      <td>-105.123685</td>\n",
       "      <td>Ran off right side</td>\n",
       "      <td>Driveway Access Related</td>\n",
       "      <td>Light Pole/Utility Pole</td>\n",
       "      <td>...</td>\n",
       "      <td></td>\n",
       "      <td></td>\n",
       "      <td></td>\n",
       "      <td></td>\n",
       "      <td></td>\n",
       "      <td>TULIP ST</td>\n",
       "      <td>WARREN AVE</td>\n",
       "      <td>TULIP ST and WARREN AVE, Longmont, CO</td>\n",
       "      <td>0</td>\n",
       "      <td>0</td>\n",
       "    </tr>\n",
       "  </tbody>\n",
       "</table>\n",
       "<p>5 rows × 104 columns</p>\n",
       "</div>"
      ],
      "text/plain": [
       "         CUID  System_Code City_Street Crash_Date Crash_Time   Latitude  \\\n",
       "0  2021-40665  City Street       HOVER 2021-01-02   17:04:00  40.167007   \n",
       "1  2021-41331  City Street       MAINS 2021-01-03   14:19:00  40.199466   \n",
       "2  2021-41336  City Street       3RDAV 2021-01-03   18:09:00  40.166961   \n",
       "3  2021-40743  City Street       KENPR 2021-01-04   11:10:00  40.141876   \n",
       "4  2021-41333  City Street       WARRE 2021-01-05   09:45:00  40.174925   \n",
       "\n",
       "    Longitude            Location         Road_Description  \\\n",
       "0 -105.130895          On Roadway          At Intersection   \n",
       "1 -105.104269          On Roadway  Driveway Access Related   \n",
       "2 -105.130811          On Roadway          At Intersection   \n",
       "3 -105.130777          On Roadway         Non-Intersection   \n",
       "4 -105.123685  Ran off right side  Driveway Access Related   \n",
       "\n",
       "                  First_HE  ... TU2_NM_Alcohol_Suspected  \\\n",
       "0            Front to Side  ...                            \n",
       "1           Front to Front  ...                            \n",
       "2           Front to Front  ...                            \n",
       "3            Front to Rear  ...                            \n",
       "4  Light Pole/Utility Pole  ...                            \n",
       "\n",
       "  TU1_NM_Marijuana_Suspected TU2_NM_Marijuana_Suspected  \\\n",
       "0                                                         \n",
       "1                                                         \n",
       "2                                                         \n",
       "3                                                         \n",
       "4                                                         \n",
       "\n",
       "  TU1_NM_Other_Drugs_Suspected TU2_NM_Other_Drugs_Suspected Location_A  \\\n",
       "0                                                              9TH AVE   \n",
       "1                                                             23RD AVE   \n",
       "2                                                              3RD AVE   \n",
       "3                                                             HOVER ST   \n",
       "4                                                             TULIP ST   \n",
       "\n",
       "   Location_B                           intersection  TU1_Speeding  \\\n",
       "0    HOVER ST     9TH AVE and HOVER ST, Longmont, CO             0   \n",
       "1     MAIN ST     23RD AVE and MAIN ST, Longmont, CO             0   \n",
       "2    HOVER ST     3RD AVE and HOVER ST, Longmont, CO             0   \n",
       "3   KEN PRATT   HOVER ST and KEN PRATT, Longmont, CO             0   \n",
       "4  WARREN AVE  TULIP ST and WARREN AVE, Longmont, CO             0   \n",
       "\n",
       "   TU2_Speeding  \n",
       "0             0  \n",
       "1             0  \n",
       "2             0  \n",
       "3             0  \n",
       "4             0  \n",
       "\n",
       "[5 rows x 104 columns]"
      ]
     },
     "execution_count": 17,
     "metadata": {},
     "output_type": "execute_result"
    }
   ],
   "source": [
    "all_crashes.head()"
   ]
  }
 ],
 "metadata": {
  "kernelspec": {
   "display_name": "Python 3 (ipykernel)",
   "language": "python",
   "name": "python3"
  },
  "language_info": {
   "codemirror_mode": {
    "name": "ipython",
    "version": 3
   },
   "file_extension": ".py",
   "mimetype": "text/x-python",
   "name": "python",
   "nbconvert_exporter": "python",
   "pygments_lexer": "ipython3",
   "version": "3.10.14"
  }
 },
 "nbformat": 4,
 "nbformat_minor": 5
}
