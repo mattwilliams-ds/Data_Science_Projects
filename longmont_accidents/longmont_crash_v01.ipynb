{
 "cells": [
  {
   "cell_type": "markdown",
   "id": "1bb44526-b90d-4235-99f9-d0ef44439bf2",
   "metadata": {},
   "source": [
    "# Vehicular Crashes in Longmont, Colorado\n",
    "\n",
    "This script reads in vehicle crash data spreadsheets downloaded from CDOT. It cleans and processes the data from crashes in Longmont only and concatenates data over several years to create a single CSV time series.\n",
    "\n",
    "Source: https://www.codot.gov/safety/traffic-safety/data-analysis/crash-data"
   ]
  },
  {
   "cell_type": "code",
   "execution_count": 1,
   "id": "39ffca6e-d6a5-44fe-b2fe-330f4ee7d152",
   "metadata": {},
   "outputs": [],
   "source": [
    "import pandas as pd\n",
    "import numpy as np"
   ]
  },
  {
   "cell_type": "code",
   "execution_count": 2,
   "id": "4333e186-83c1-446b-af18-8f9e0cebe883",
   "metadata": {},
   "outputs": [],
   "source": [
    "# input file list (2021 & newer only, older files follow a different format)\n",
    "files = ['CDOTRM_CD_Crash_Listing_-_2021.xlsx',\n",
    "         'CDOTRM_CD_Crash_Listing_-_2022.xlsx',\n",
    "         'CDOTRM_CD_Crash_Listing_-_2023.xlsx',\n",
    "         'CDOTRM_CD_Crash_Listing_-_2024.xlsx'\n",
    "        ]\n",
    "\n",
    "# create an empty dataframe to populate with each year's data\n",
    "all_crashes = pd.DataFrame()"
   ]
  },
  {
   "cell_type": "code",
   "execution_count": 3,
   "id": "651db5a5-bd0f-41b6-8eaa-04ef4d4134c6",
   "metadata": {},
   "outputs": [],
   "source": [
    "def process_crashes(crashes):\n",
    "    # Save only crashes in Longmont\n",
    "    crashes = crashes.loc[crashes.City == 'LONGMONT'].copy()\n",
    "\n",
    "    # replace CUID with year-CUID\n",
    "    crashes['CUID'] = crashes['Crash Date'].dt.year.astype(str)+'-'+crashes['CUID'].astype(str)\n",
    "\n",
    "    # Flag accidents where vehicles were speeding (1=yes, 0=no)\n",
    "    crashes['TU-1 Speeding'] =  np.where(crashes['TU-1 Estimated Speed'] > crashes['TU-1 Speed Limit'], 1, 0)\n",
    "    crashes['TU-2 Speeding'] =  np.where(crashes['TU-2 Estimated Speed'] > crashes['TU-2 Speed Limit'], 1, 0)\n",
    "\n",
    "    # Fill nan values with empty string\n",
    "    crashes = crashes.fillna('')\n",
    "    \n",
    "    return crashes"
   ]
  },
  {
   "cell_type": "code",
   "execution_count": 4,
   "id": "bec05f39-b522-4e3a-8b56-b417a82de508",
   "metadata": {},
   "outputs": [
    {
     "name": "stdout",
     "output_type": "stream",
     "text": [
      "Processing:\n",
      "\tCDOTRM_CD_Crash_Listing_-_2021.xlsx\n",
      "\tCDOTRM_CD_Crash_Listing_-_2022.xlsx\n",
      "\tCDOTRM_CD_Crash_Listing_-_2023.xlsx\n",
      "\tCDOTRM_CD_Crash_Listing_-_2024.xlsx\n",
      "Finished\n"
     ]
    }
   ],
   "source": [
    "print('Processing:')\n",
    "\n",
    "for file in files:\n",
    "\n",
    "    print('\\t'+file)\n",
    "    \n",
    "    # read each file into a dataframe (calamine engine is many times faster than the default\n",
    "    #    openpyxl engine\n",
    "    temp_df = pd.read_excel(file, header = 0, engine='calamine')\n",
    "\n",
    "    # call function to clean data\n",
    "    processed_df = process_crashes(temp_df)\n",
    "\n",
    "    # concatenate newly processed dataframe to previously cleaned data\n",
    "    all_crashes = pd.concat([all_crashes, processed_df], ignore_index = True)\n",
    "\n",
    "print('Finished')"
   ]
  },
  {
   "cell_type": "code",
   "execution_count": 5,
   "id": "efb17432-8288-4ae8-969e-cff64942b1fd",
   "metadata": {},
   "outputs": [],
   "source": [
    "# Create a list of unwanted columns to drop\n",
    "drop_columns = ['Agency Id',\n",
    "                'City',\n",
    "                'County',\n",
    "                'Rd_Section',\n",
    "                'Rd_Number',\n",
    "                'Record Status',\n",
    "                'Processing Status',\n",
    "                'Last Updated',\n",
    "                'Link'\n",
    "               ]\n",
    "\n",
    "all_crashes.drop(drop_columns, inplace=True, axis=1)\n",
    "\n",
    "# write everything to csv\n",
    "all_crashes.to_csv('longmont_crashes.csv', sep=',')"
   ]
  }
 ],
 "metadata": {
  "kernelspec": {
   "display_name": "Python 3 (ipykernel)",
   "language": "python",
   "name": "python3"
  },
  "language_info": {
   "codemirror_mode": {
    "name": "ipython",
    "version": 3
   },
   "file_extension": ".py",
   "mimetype": "text/x-python",
   "name": "python",
   "nbconvert_exporter": "python",
   "pygments_lexer": "ipython3",
   "version": "3.10.14"
  }
 },
 "nbformat": 4,
 "nbformat_minor": 5
}
