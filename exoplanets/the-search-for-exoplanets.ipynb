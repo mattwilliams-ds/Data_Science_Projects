{
 "cells": [
  {
   "cell_type": "markdown",
   "id": "de571cd6",
   "metadata": {
    "papermill": {
     "duration": 0.010613,
     "end_time": "2025-01-01T18:11:10.037112",
     "exception": false,
     "start_time": "2025-01-01T18:11:10.026499",
     "status": "completed"
    },
    "tags": []
   },
   "source": [
    "# The Search for Exoplanets\n",
    "### Matthew Williams"
   ]
  },
  {
   "cell_type": "markdown",
   "id": "3585baee",
   "metadata": {
    "papermill": {
     "duration": 0.009726,
     "end_time": "2025-01-01T18:11:10.057747",
     "exception": false,
     "start_time": "2025-01-01T18:11:10.048021",
     "status": "completed"
    },
    "tags": []
   },
   "source": [
    "# 1.0 Introduction\n",
    "\n",
    "An exoplanet is defined any planet that is outside of our solar system. For a long time it was simply assumed that planets existed that orbited other stars in the universe. In 1992, though, the first exoplanet as discovered. After that, the science of exoplanet exploration grew dramatically. This report analyzes a dataset of 5,312 exoplanets, their physical attributes, the methods used to prove their existance, and the telescopes that made it possible.\n",
    "\n",
    "\n",
    "# 2.0 Import Libraries & Data"
   ]
  },
  {
   "cell_type": "code",
   "execution_count": 1,
   "id": "c6978b4a",
   "metadata": {
    "execution": {
     "iopub.execute_input": "2025-01-01T18:11:10.079704Z",
     "iopub.status.busy": "2025-01-01T18:11:10.079313Z",
     "iopub.status.idle": "2025-01-01T18:11:12.587981Z",
     "shell.execute_reply": "2025-01-01T18:11:12.586870Z"
    },
    "papermill": {
     "duration": 2.522542,
     "end_time": "2025-01-01T18:11:12.590451",
     "exception": false,
     "start_time": "2025-01-01T18:11:10.067909",
     "status": "completed"
    },
    "tags": []
   },
   "outputs": [],
   "source": [
    "# Import Libraries\n",
    "import numpy as np\n",
    "from numpy import nan\n",
    "import pandas as pd\n",
    "import matplotlib.pyplot as plt\n",
    "import random\n",
    "import seaborn as sns\n",
    "from IPython.display import Image\n",
    "from IPython.core.display import HTML\n",
    "import re\n",
    "\n",
    "# Supress FutureWarnings until Kaggle updates Seaborn to 0.13.0\n",
    "import warnings\n",
    "warnings.simplefilter(action='ignore', category=FutureWarning)"
   ]
  },
  {
   "cell_type": "markdown",
   "id": "c1f4d5fe",
   "metadata": {
    "papermill": {
     "duration": 0.01067,
     "end_time": "2025-01-01T18:11:12.611575",
     "exception": false,
     "start_time": "2025-01-01T18:11:12.600905",
     "status": "completed"
    },
    "tags": []
   },
   "source": [
    "The data analyzed in this report was downloaded from the NASA Exoplanet Archive on March 29th, 2023 as a tab separated value text file. Comma separated value text files are available, however, the complete dataset includes URL links with commas in them and made importing the data cumbersome. The availability of tab separated values allowed for an easier way to import the data.\n",
    "\n",
    "https://exoplanetarchive.ipac.caltech.edu/cgi-bin/TblView/nph-tblView?app=ExoTbls&config=PS"
   ]
  },
  {
   "cell_type": "code",
   "execution_count": 2,
   "id": "e69c9205",
   "metadata": {
    "execution": {
     "iopub.execute_input": "2025-01-01T18:11:12.633930Z",
     "iopub.status.busy": "2025-01-01T18:11:12.632766Z",
     "iopub.status.idle": "2025-01-01T18:11:13.552406Z",
     "shell.execute_reply": "2025-01-01T18:11:13.551270Z"
    },
    "papermill": {
     "duration": 0.933413,
     "end_time": "2025-01-01T18:11:13.554956",
     "exception": false,
     "start_time": "2025-01-01T18:11:12.621543",
     "status": "completed"
    },
    "tags": []
   },
   "outputs": [
    {
     "data": {
      "text/html": [
       "<div>\n",
       "<style scoped>\n",
       "    .dataframe tbody tr th:only-of-type {\n",
       "        vertical-align: middle;\n",
       "    }\n",
       "\n",
       "    .dataframe tbody tr th {\n",
       "        vertical-align: top;\n",
       "    }\n",
       "\n",
       "    .dataframe thead th {\n",
       "        text-align: right;\n",
       "    }\n",
       "</style>\n",
       "<table border=\"1\" class=\"dataframe\">\n",
       "  <thead>\n",
       "    <tr style=\"text-align: right;\">\n",
       "      <th></th>\n",
       "      <th>rowid</th>\n",
       "      <th>pl_name</th>\n",
       "      <th>hostname</th>\n",
       "      <th>pl_letter</th>\n",
       "      <th>hd_name</th>\n",
       "      <th>hip_name</th>\n",
       "      <th>tic_id</th>\n",
       "      <th>gaia_id</th>\n",
       "      <th>sy_snum</th>\n",
       "      <th>sy_pnum</th>\n",
       "      <th>...</th>\n",
       "      <th>sy_kepmag</th>\n",
       "      <th>sy_kepmagerr1</th>\n",
       "      <th>sy_kepmagerr2</th>\n",
       "      <th>sy_kepmag_reflink</th>\n",
       "      <th>pl_nnotes</th>\n",
       "      <th>st_nphot</th>\n",
       "      <th>st_nrvc</th>\n",
       "      <th>st_nspec</th>\n",
       "      <th>pl_nespec</th>\n",
       "      <th>pl_ntranspec</th>\n",
       "    </tr>\n",
       "  </thead>\n",
       "  <tbody>\n",
       "    <tr>\n",
       "      <th>0</th>\n",
       "      <td>1</td>\n",
       "      <td>11 Com b</td>\n",
       "      <td>11 Com</td>\n",
       "      <td>b</td>\n",
       "      <td>HD 107383</td>\n",
       "      <td>HIP 60202</td>\n",
       "      <td>TIC 72437047</td>\n",
       "      <td>Gaia DR2 3946945413106333696</td>\n",
       "      <td>2</td>\n",
       "      <td>1</td>\n",
       "      <td>...</td>\n",
       "      <td>NaN</td>\n",
       "      <td>NaN</td>\n",
       "      <td>NaN</td>\n",
       "      <td>&lt;a refstr=STASSUN_ET_AL__2019 href=https://ui....</td>\n",
       "      <td>2.0</td>\n",
       "      <td>1</td>\n",
       "      <td>2</td>\n",
       "      <td>0</td>\n",
       "      <td>0</td>\n",
       "      <td>0</td>\n",
       "    </tr>\n",
       "    <tr>\n",
       "      <th>1</th>\n",
       "      <td>2</td>\n",
       "      <td>11 UMi b</td>\n",
       "      <td>11 UMi</td>\n",
       "      <td>b</td>\n",
       "      <td>HD 136726</td>\n",
       "      <td>HIP 74793</td>\n",
       "      <td>TIC 230061010</td>\n",
       "      <td>Gaia DR2 1696798367260229376</td>\n",
       "      <td>1</td>\n",
       "      <td>1</td>\n",
       "      <td>...</td>\n",
       "      <td>NaN</td>\n",
       "      <td>NaN</td>\n",
       "      <td>NaN</td>\n",
       "      <td>&lt;a refstr=STASSUN_ET_AL__2019 href=https://ui....</td>\n",
       "      <td>0.0</td>\n",
       "      <td>1</td>\n",
       "      <td>1</td>\n",
       "      <td>0</td>\n",
       "      <td>0</td>\n",
       "      <td>0</td>\n",
       "    </tr>\n",
       "    <tr>\n",
       "      <th>2</th>\n",
       "      <td>3</td>\n",
       "      <td>14 And b</td>\n",
       "      <td>14 And</td>\n",
       "      <td>b</td>\n",
       "      <td>HD 221345</td>\n",
       "      <td>HIP 116076</td>\n",
       "      <td>TIC 333225860</td>\n",
       "      <td>Gaia DR2 1920113512486282240</td>\n",
       "      <td>1</td>\n",
       "      <td>1</td>\n",
       "      <td>...</td>\n",
       "      <td>NaN</td>\n",
       "      <td>NaN</td>\n",
       "      <td>NaN</td>\n",
       "      <td>&lt;a refstr=STASSUN_ET_AL__2019 href=https://ui....</td>\n",
       "      <td>0.0</td>\n",
       "      <td>1</td>\n",
       "      <td>1</td>\n",
       "      <td>0</td>\n",
       "      <td>0</td>\n",
       "      <td>0</td>\n",
       "    </tr>\n",
       "    <tr>\n",
       "      <th>3</th>\n",
       "      <td>4</td>\n",
       "      <td>14 Her b</td>\n",
       "      <td>14 Her</td>\n",
       "      <td>b</td>\n",
       "      <td>HD 145675</td>\n",
       "      <td>HIP 79248</td>\n",
       "      <td>TIC 219483057</td>\n",
       "      <td>Gaia DR2 1385293808145621504</td>\n",
       "      <td>1</td>\n",
       "      <td>2</td>\n",
       "      <td>...</td>\n",
       "      <td>NaN</td>\n",
       "      <td>NaN</td>\n",
       "      <td>NaN</td>\n",
       "      <td>&lt;a refstr=STASSUN_ET_AL__2019 href=https://ui....</td>\n",
       "      <td>0.0</td>\n",
       "      <td>1</td>\n",
       "      <td>4</td>\n",
       "      <td>1</td>\n",
       "      <td>0</td>\n",
       "      <td>0</td>\n",
       "    </tr>\n",
       "    <tr>\n",
       "      <th>4</th>\n",
       "      <td>5</td>\n",
       "      <td>16 Cyg B b</td>\n",
       "      <td>16 Cyg B</td>\n",
       "      <td>b</td>\n",
       "      <td>HD 186427</td>\n",
       "      <td>HIP 96901</td>\n",
       "      <td>TIC 27533327</td>\n",
       "      <td>Gaia DR2 2135550755683407232</td>\n",
       "      <td>3</td>\n",
       "      <td>1</td>\n",
       "      <td>...</td>\n",
       "      <td>6.095</td>\n",
       "      <td>NaN</td>\n",
       "      <td>NaN</td>\n",
       "      <td>&lt;a refstr=STASSUN_ET_AL__2019 href=https://ui....</td>\n",
       "      <td>5.0</td>\n",
       "      <td>1</td>\n",
       "      <td>4</td>\n",
       "      <td>3</td>\n",
       "      <td>0</td>\n",
       "      <td>0</td>\n",
       "    </tr>\n",
       "  </tbody>\n",
       "</table>\n",
       "<p>5 rows × 313 columns</p>\n",
       "</div>"
      ],
      "text/plain": [
       "   rowid     pl_name  hostname pl_letter    hd_name    hip_name  \\\n",
       "0      1    11 Com b    11 Com         b  HD 107383   HIP 60202   \n",
       "1      2    11 UMi b    11 UMi         b  HD 136726   HIP 74793   \n",
       "2      3    14 And b    14 And         b  HD 221345  HIP 116076   \n",
       "3      4    14 Her b    14 Her         b  HD 145675   HIP 79248   \n",
       "4      5  16 Cyg B b  16 Cyg B         b  HD 186427   HIP 96901   \n",
       "\n",
       "          tic_id                       gaia_id  sy_snum  sy_pnum  ...  \\\n",
       "0   TIC 72437047  Gaia DR2 3946945413106333696        2        1  ...   \n",
       "1  TIC 230061010  Gaia DR2 1696798367260229376        1        1  ...   \n",
       "2  TIC 333225860  Gaia DR2 1920113512486282240        1        1  ...   \n",
       "3  TIC 219483057  Gaia DR2 1385293808145621504        1        2  ...   \n",
       "4   TIC 27533327  Gaia DR2 2135550755683407232        3        1  ...   \n",
       "\n",
       "   sy_kepmag  sy_kepmagerr1 sy_kepmagerr2  \\\n",
       "0        NaN            NaN           NaN   \n",
       "1        NaN            NaN           NaN   \n",
       "2        NaN            NaN           NaN   \n",
       "3        NaN            NaN           NaN   \n",
       "4      6.095            NaN           NaN   \n",
       "\n",
       "                                   sy_kepmag_reflink pl_nnotes st_nphot  \\\n",
       "0  <a refstr=STASSUN_ET_AL__2019 href=https://ui....       2.0        1   \n",
       "1  <a refstr=STASSUN_ET_AL__2019 href=https://ui....       0.0        1   \n",
       "2  <a refstr=STASSUN_ET_AL__2019 href=https://ui....       0.0        1   \n",
       "3  <a refstr=STASSUN_ET_AL__2019 href=https://ui....       0.0        1   \n",
       "4  <a refstr=STASSUN_ET_AL__2019 href=https://ui....       5.0        1   \n",
       "\n",
       "  st_nrvc st_nspec pl_nespec pl_ntranspec  \n",
       "0       2        0         0            0  \n",
       "1       1        0         0            0  \n",
       "2       1        0         0            0  \n",
       "3       4        1         0            0  \n",
       "4       4        3         0            0  \n",
       "\n",
       "[5 rows x 313 columns]"
      ]
     },
     "execution_count": 2,
     "metadata": {},
     "output_type": "execute_result"
    }
   ],
   "source": [
    "# Read the tab separated value data file\n",
    "exoData = pd.read_csv('../input/exoplanets/exo_v04.tab', sep='\\t')\n",
    "exoData.head()"
   ]
  },
  {
   "cell_type": "markdown",
   "id": "68b1f962",
   "metadata": {
    "papermill": {
     "duration": 0.013293,
     "end_time": "2025-01-01T18:11:13.583572",
     "exception": false,
     "start_time": "2025-01-01T18:11:13.570279",
     "status": "completed"
    },
    "tags": []
   },
   "source": [
    "## 2.1 Remove Unnecessary Data"
   ]
  },
  {
   "cell_type": "markdown",
   "id": "b6db30e8",
   "metadata": {
    "papermill": {
     "duration": 0.014674,
     "end_time": "2025-01-01T18:11:13.614700",
     "exception": false,
     "start_time": "2025-01-01T18:11:13.600026",
     "status": "completed"
    },
    "tags": []
   },
   "source": [
    "The full data set includes data on 5,312 exoplanets with 313 attributes. For this analysis, only a particular set of attributes is needed. The list of desired attributes is defined in the variable 'keepColumns' below."
   ]
  },
  {
   "cell_type": "code",
   "execution_count": 3,
   "id": "722c6b25",
   "metadata": {
    "execution": {
     "iopub.execute_input": "2025-01-01T18:11:13.643814Z",
     "iopub.status.busy": "2025-01-01T18:11:13.643280Z",
     "iopub.status.idle": "2025-01-01T18:11:13.662006Z",
     "shell.execute_reply": "2025-01-01T18:11:13.660868Z"
    },
    "papermill": {
     "duration": 0.037003,
     "end_time": "2025-01-01T18:11:13.664227",
     "exception": false,
     "start_time": "2025-01-01T18:11:13.627224",
     "status": "completed"
    },
    "tags": []
   },
   "outputs": [
    {
     "data": {
      "text/html": [
       "<div>\n",
       "<style scoped>\n",
       "    .dataframe tbody tr th:only-of-type {\n",
       "        vertical-align: middle;\n",
       "    }\n",
       "\n",
       "    .dataframe tbody tr th {\n",
       "        vertical-align: top;\n",
       "    }\n",
       "\n",
       "    .dataframe thead th {\n",
       "        text-align: right;\n",
       "    }\n",
       "</style>\n",
       "<table border=\"1\" class=\"dataframe\">\n",
       "  <thead>\n",
       "    <tr style=\"text-align: right;\">\n",
       "      <th></th>\n",
       "      <th>pl_name</th>\n",
       "      <th>sy_snum</th>\n",
       "      <th>sy_pnum</th>\n",
       "      <th>discoverymethod</th>\n",
       "      <th>disc_year</th>\n",
       "      <th>disc_facility</th>\n",
       "      <th>disc_telescope</th>\n",
       "      <th>pl_orbper</th>\n",
       "      <th>pl_rade</th>\n",
       "      <th>pl_bmasse</th>\n",
       "      <th>sy_dist</th>\n",
       "    </tr>\n",
       "  </thead>\n",
       "  <tbody>\n",
       "    <tr>\n",
       "      <th>0</th>\n",
       "      <td>11 Com b</td>\n",
       "      <td>2</td>\n",
       "      <td>1</td>\n",
       "      <td>Radial Velocity</td>\n",
       "      <td>2007</td>\n",
       "      <td>Xinglong Station</td>\n",
       "      <td>2.16 m Telescope</td>\n",
       "      <td>326.030000</td>\n",
       "      <td>12.1</td>\n",
       "      <td>6165.60000</td>\n",
       "      <td>93.1846</td>\n",
       "    </tr>\n",
       "    <tr>\n",
       "      <th>1</th>\n",
       "      <td>11 UMi b</td>\n",
       "      <td>1</td>\n",
       "      <td>1</td>\n",
       "      <td>Radial Velocity</td>\n",
       "      <td>2009</td>\n",
       "      <td>Thueringer Landessternwarte Tautenburg</td>\n",
       "      <td>2.0 m Alfred Jensch Telescope</td>\n",
       "      <td>516.219970</td>\n",
       "      <td>12.3</td>\n",
       "      <td>4684.81420</td>\n",
       "      <td>125.3210</td>\n",
       "    </tr>\n",
       "    <tr>\n",
       "      <th>2</th>\n",
       "      <td>14 And b</td>\n",
       "      <td>1</td>\n",
       "      <td>1</td>\n",
       "      <td>Radial Velocity</td>\n",
       "      <td>2008</td>\n",
       "      <td>Okayama Astrophysical Observatory</td>\n",
       "      <td>1.88 m Telescope</td>\n",
       "      <td>185.840000</td>\n",
       "      <td>12.9</td>\n",
       "      <td>1525.50000</td>\n",
       "      <td>75.4392</td>\n",
       "    </tr>\n",
       "    <tr>\n",
       "      <th>3</th>\n",
       "      <td>14 Her b</td>\n",
       "      <td>1</td>\n",
       "      <td>2</td>\n",
       "      <td>Radial Velocity</td>\n",
       "      <td>2002</td>\n",
       "      <td>W. M. Keck Observatory</td>\n",
       "      <td>10 m Keck I Telescope</td>\n",
       "      <td>1765.038901</td>\n",
       "      <td>12.6</td>\n",
       "      <td>2586.74645</td>\n",
       "      <td>17.9323</td>\n",
       "    </tr>\n",
       "    <tr>\n",
       "      <th>4</th>\n",
       "      <td>16 Cyg B b</td>\n",
       "      <td>3</td>\n",
       "      <td>1</td>\n",
       "      <td>Radial Velocity</td>\n",
       "      <td>1996</td>\n",
       "      <td>Multiple Observatories</td>\n",
       "      <td>Multiple Telescopes</td>\n",
       "      <td>798.500000</td>\n",
       "      <td>13.5</td>\n",
       "      <td>565.73740</td>\n",
       "      <td>21.1397</td>\n",
       "    </tr>\n",
       "  </tbody>\n",
       "</table>\n",
       "</div>"
      ],
      "text/plain": [
       "      pl_name  sy_snum  sy_pnum  discoverymethod  disc_year  \\\n",
       "0    11 Com b        2        1  Radial Velocity       2007   \n",
       "1    11 UMi b        1        1  Radial Velocity       2009   \n",
       "2    14 And b        1        1  Radial Velocity       2008   \n",
       "3    14 Her b        1        2  Radial Velocity       2002   \n",
       "4  16 Cyg B b        3        1  Radial Velocity       1996   \n",
       "\n",
       "                            disc_facility                 disc_telescope  \\\n",
       "0                        Xinglong Station               2.16 m Telescope   \n",
       "1  Thueringer Landessternwarte Tautenburg  2.0 m Alfred Jensch Telescope   \n",
       "2       Okayama Astrophysical Observatory               1.88 m Telescope   \n",
       "3                  W. M. Keck Observatory          10 m Keck I Telescope   \n",
       "4                  Multiple Observatories            Multiple Telescopes   \n",
       "\n",
       "     pl_orbper  pl_rade   pl_bmasse   sy_dist  \n",
       "0   326.030000     12.1  6165.60000   93.1846  \n",
       "1   516.219970     12.3  4684.81420  125.3210  \n",
       "2   185.840000     12.9  1525.50000   75.4392  \n",
       "3  1765.038901     12.6  2586.74645   17.9323  \n",
       "4   798.500000     13.5   565.73740   21.1397  "
      ]
     },
     "execution_count": 3,
     "metadata": {},
     "output_type": "execute_result"
    }
   ],
   "source": [
    "# Store column names\n",
    "colNames = exoData.columns\n",
    "\n",
    "# Create a list of columns to keep for analysis\n",
    "keepColumns = {'pl_name', 'discoverymethod', 'disc_facility', 'disc_telescope', 'sy_snum', 'sy_pnum', \\\n",
    "       'disc_year', 'disc_facility', 'pl_orbper', 'pl_rade', 'pl_bmasse', 'sy_dist'}\n",
    "\n",
    "# Create an empty list to store column numbers to drop\n",
    "dropColumns = []\n",
    "\n",
    "# Loop over column names and append column numbers to the drop list that aren't in keepColumns\n",
    "i=0\n",
    "for name in colNames:\n",
    "    if name not in keepColumns:\n",
    "        dropColumns.append(i)       \n",
    "    i += 1\n",
    "\n",
    "# Drop unwanted columns\n",
    "exoData = exoData.drop(exoData.columns[dropColumns], axis=1)\n",
    "exoData.head()"
   ]
  },
  {
   "cell_type": "markdown",
   "id": "6a0daf98",
   "metadata": {
    "papermill": {
     "duration": 0.01037,
     "end_time": "2025-01-01T18:11:13.685140",
     "exception": false,
     "start_time": "2025-01-01T18:11:13.674770",
     "status": "completed"
    },
    "tags": []
   },
   "source": [
    "The attributes selected are as follows:\n",
    "- pl_name: exoplanet name\n",
    "- sy_snum: number of stars in the system\n",
    "- sy_pnum: number of planets in the system\n",
    "- discoverymethod: method used to detect the exoplanet\n",
    "- disc_year: year the planet was discovered\n",
    "- disc_facility: name of the observatory or telescope used\n",
    "- disc_telescope: the specific telescope used, including the focal length in many cases\n",
    "- pl_orbper: orbital period of the exoplanet (number of Earth years it takes to go around it's own star)\n",
    "- pl_rade: exoplanet radius (reported as a ratio of Earth radii)\n",
    "- pl_bmasse: exoplanet mass (reported as a ratio of Earth masses)\n",
    "- sy_dist: distance from earth to the exoplanet's system (reported in parsecs)"
   ]
  },
  {
   "cell_type": "markdown",
   "id": "87978c2f",
   "metadata": {
    "papermill": {
     "duration": 0.010275,
     "end_time": "2025-01-01T18:11:13.706110",
     "exception": false,
     "start_time": "2025-01-01T18:11:13.695835",
     "status": "completed"
    },
    "tags": []
   },
   "source": [
    "# 3.0 Discovery Methods and Facilities"
   ]
  },
  {
   "cell_type": "markdown",
   "id": "3b67d9d5",
   "metadata": {
    "papermill": {
     "duration": 0.010355,
     "end_time": "2025-01-01T18:11:13.727013",
     "exception": false,
     "start_time": "2025-01-01T18:11:13.716658",
     "status": "completed"
    },
    "tags": []
   },
   "source": [
    "## 3.1 Discoveries Per Year\n",
    "\n",
    "The history of exoplanet discovery is short in relation to how long mankind has studied the skies. As mentioned previously, the existence of the first explanet was confirmed in 1992, 31 years ago. How the rate of exoplanet discovery has changed over time can be understood by looking at a histogram of discoveries per year since 1992."
   ]
  },
  {
   "cell_type": "code",
   "execution_count": 4,
   "id": "df2a9858",
   "metadata": {
    "execution": {
     "iopub.execute_input": "2025-01-01T18:11:13.749512Z",
     "iopub.status.busy": "2025-01-01T18:11:13.749132Z",
     "iopub.status.idle": "2025-01-01T18:11:14.205102Z",
     "shell.execute_reply": "2025-01-01T18:11:14.203982Z"
    },
    "papermill": {
     "duration": 0.470076,
     "end_time": "2025-01-01T18:11:14.207486",
     "exception": false,
     "start_time": "2025-01-01T18:11:13.737410",
     "status": "completed"
    },
    "tags": []
   },
   "outputs": [
    {
     "data": {
      "image/png": "[encoded data removed]",
      "text/plain": [
       "<Figure size 640x480 with 1 Axes>"
      ]
     },
     "metadata": {},
     "output_type": "display_data"
    }
   ],
   "source": [
    "# calculate number of years in the data set\n",
    "numBins = exoData['disc_year'].max()-exoData['disc_year'].min()\n",
    "\n",
    "# create a histogram of exoplanet discoveries per year\n",
    "fig = plt.figure()\n",
    "exoData['disc_year'].hist(bins=numBins)\n",
    "plt.xlabel(\"Year\")\n",
    "plt.xlim(1990,2025)\n",
    "plt.ylabel(\"Exoplanets\")\n",
    "plt.ylim(0,1600)\n",
    "plt.title(label=\"Exoplanet Discoveries Per Year\");"
   ]
  },
  {
   "cell_type": "markdown",
   "id": "cfc49253",
   "metadata": {
    "papermill": {
     "duration": 0.011299,
     "end_time": "2025-01-01T18:11:14.230531",
     "exception": false,
     "start_time": "2025-01-01T18:11:14.219232",
     "status": "completed"
    },
    "tags": []
   },
   "source": [
    "The rate of discovery started out slowly with few discoveries each year. Around 2002, the rate of discovery started to increase with banner years occuring in 2014 and 2016."
   ]
  },
  {
   "cell_type": "markdown",
   "id": "29ae0c71",
   "metadata": {
    "papermill": {
     "duration": 0.010904,
     "end_time": "2025-01-01T18:11:14.253308",
     "exception": false,
     "start_time": "2025-01-01T18:11:14.242404",
     "status": "completed"
    },
    "tags": []
   },
   "source": [
    "## 3.2 Discovery Methods\n",
    "\n",
    "There are a number of different methods used to detect exoplanets. Understanding how these planets are identified is important in understanding the planets themselves. Below is a list of reported methods used in the discovery of the exoplanets in this data set."
   ]
  },
  {
   "cell_type": "code",
   "execution_count": 5,
   "id": "7fc43008",
   "metadata": {
    "execution": {
     "iopub.execute_input": "2025-01-01T18:11:14.278457Z",
     "iopub.status.busy": "2025-01-01T18:11:14.278085Z",
     "iopub.status.idle": "2025-01-01T18:11:14.288548Z",
     "shell.execute_reply": "2025-01-01T18:11:14.287054Z"
    },
    "papermill": {
     "duration": 0.026077,
     "end_time": "2025-01-01T18:11:14.291002",
     "exception": false,
     "start_time": "2025-01-01T18:11:14.264925",
     "status": "completed"
    },
    "tags": []
   },
   "outputs": [
    {
     "name": "stdout",
     "output_type": "stream",
     "text": [
      "Number of methods used:  11\n",
      "Methods:  ['Radial Velocity' 'Imaging' 'Eclipse Timing Variations' 'Transit'\n",
      " 'Astrometry' 'Disk Kinematics' 'Orbital Brightness Modulation'\n",
      " 'Pulsation Timing Variations' 'Microlensing' 'Transit Timing Variations'\n",
      " 'Pulsar Timing']\n"
     ]
    }
   ],
   "source": [
    "print(\"Number of methods used: \", len(exoData['discoverymethod'].unique()))\n",
    "print(\"Methods: \", exoData['discoverymethod'].unique())"
   ]
  },
  {
   "cell_type": "markdown",
   "id": "1f3694f5",
   "metadata": {
    "papermill": {
     "duration": 0.011013,
     "end_time": "2025-01-01T18:11:14.314101",
     "exception": false,
     "start_time": "2025-01-01T18:11:14.303088",
     "status": "completed"
    },
    "tags": []
   },
   "source": [
    "In total, 11 methods have been employed to confirm the existance of exoplanets. Most of these methods rely on distortions of a stars light. This can take the form of dimming the star's brightness, bending the light, or modifying the pulsing of a star to name a few. \"Imaging\" refers to direct imaging where planets are actually percieved by the telescope via video or photographs. According to Nasa, the only planets that can be seen through direct imaging are newly formed gas giants that have not yet cooled off (How We Find and Characterize | Discovery – Exoplanet Exploration: Planets Beyond Our Solar System, n.d.).\n",
    "\n",
    "The plot below shows the most fruitful methods of searching for exoplanets."
   ]
  },
  {
   "cell_type": "code",
   "execution_count": 6,
   "id": "e0e42e2c",
   "metadata": {
    "execution": {
     "iopub.execute_input": "2025-01-01T18:11:14.339076Z",
     "iopub.status.busy": "2025-01-01T18:11:14.338671Z",
     "iopub.status.idle": "2025-01-01T18:11:14.680209Z",
     "shell.execute_reply": "2025-01-01T18:11:14.679164Z"
    },
    "papermill": {
     "duration": 0.356708,
     "end_time": "2025-01-01T18:11:14.682524",
     "exception": false,
     "start_time": "2025-01-01T18:11:14.325816",
     "status": "completed"
    },
    "tags": []
   },
   "outputs": [
    {
     "data": {
      "image/png": "[encoded data removed]",
      "text/plain": [
       "<Figure size 640x480 with 1 Axes>"
      ]
     },
     "metadata": {},
     "output_type": "display_data"
    }
   ],
   "source": [
    "fig, ax = plt.subplots()\n",
    "\n",
    "# Count discoveries made using each method\n",
    "discoveryCounts = exoData['discoverymethod'].value_counts().sort_values()\n",
    "discoveryCounts.plot(ax=ax, kind='barh')\n",
    "\n",
    "# Plot discoveries per method\n",
    "plt.title(\"Discoveries per Method\")\n",
    "plt.xlabel(\"Exoplanets Discovered\")\n",
    "plt.ylabel(\"Method\")\n",
    "plt.xticks(rotation=30, horizontalalignment='right');"
   ]
  },
  {
   "cell_type": "markdown",
   "id": "b4d4f938",
   "metadata": {
    "papermill": {
     "duration": 0.011493,
     "end_time": "2025-01-01T18:11:14.705839",
     "exception": false,
     "start_time": "2025-01-01T18:11:14.694346",
     "status": "completed"
    },
    "tags": []
   },
   "source": [
    "The \"transit\" discovery method is by far the most successful method for detecting exoplanets. With this method, a telescope will focus in on a patch of sky and monitor the brightness of those stars. As planets pass in front of the star, the star will appear to dim (How We Find and Characterize | Discovery – Exoplanet Exploration: Planets Beyond Our Solar System, n.d.)."
   ]
  },
  {
   "cell_type": "markdown",
   "id": "80310e4c",
   "metadata": {
    "papermill": {
     "duration": 0.011532,
     "end_time": "2025-01-01T18:11:14.729257",
     "exception": false,
     "start_time": "2025-01-01T18:11:14.717725",
     "status": "completed"
    },
    "tags": []
   },
   "source": [
    "## 3.3 Exploration Facilities"
   ]
  },
  {
   "cell_type": "markdown",
   "id": "db3b972b",
   "metadata": {
    "papermill": {
     "duration": 0.011493,
     "end_time": "2025-01-01T18:11:14.752749",
     "exception": false,
     "start_time": "2025-01-01T18:11:14.741256",
     "status": "completed"
    },
    "tags": []
   },
   "source": [
    "There are 67 facilities responsible for the exoplanet discoveries made to date. While the total below states that there are 68, the Discoveries Per Facility plot below denotes one facility as \"Multiple Observatories\", a label likely used for exoplanets where a single observatory cannot be determined or designated as the original discoverer."
   ]
  },
  {
   "cell_type": "code",
   "execution_count": 7,
   "id": "3a41d179",
   "metadata": {
    "execution": {
     "iopub.execute_input": "2025-01-01T18:11:14.777984Z",
     "iopub.status.busy": "2025-01-01T18:11:14.777569Z",
     "iopub.status.idle": "2025-01-01T18:11:14.783864Z",
     "shell.execute_reply": "2025-01-01T18:11:14.782831Z"
    },
    "papermill": {
     "duration": 0.021637,
     "end_time": "2025-01-01T18:11:14.786083",
     "exception": false,
     "start_time": "2025-01-01T18:11:14.764446",
     "status": "completed"
    },
    "tags": []
   },
   "outputs": [
    {
     "name": "stdout",
     "output_type": "stream",
     "text": [
      "Number of facilities that have discovered exoplanets:  68\n"
     ]
    }
   ],
   "source": [
    "print(\"Number of facilities that have discovered exoplanets: \", len(exoData['disc_facility'].unique()))"
   ]
  },
  {
   "cell_type": "markdown",
   "id": "7e7e08a0",
   "metadata": {
    "papermill": {
     "duration": 0.011891,
     "end_time": "2025-01-01T18:11:14.810107",
     "exception": false,
     "start_time": "2025-01-01T18:11:14.798216",
     "status": "completed"
    },
    "tags": []
   },
   "source": [
    "The plot below shows the number of discoveries made by the top 10 exoplanet exploring facilities."
   ]
  },
  {
   "cell_type": "code",
   "execution_count": 8,
   "id": "fa41eac2",
   "metadata": {
    "execution": {
     "iopub.execute_input": "2025-01-01T18:11:14.894582Z",
     "iopub.status.busy": "2025-01-01T18:11:14.894206Z",
     "iopub.status.idle": "2025-01-01T18:11:15.206334Z",
     "shell.execute_reply": "2025-01-01T18:11:15.205133Z"
    },
    "papermill": {
     "duration": 0.328174,
     "end_time": "2025-01-01T18:11:15.209024",
     "exception": false,
     "start_time": "2025-01-01T18:11:14.880850",
     "status": "completed"
    },
    "tags": []
   },
   "outputs": [
    {
     "data": {
      "image/png": "[encoded data removed]",
      "text/plain": [
       "<Figure size 640x480 with 1 Axes>"
      ]
     },
     "metadata": {},
     "output_type": "display_data"
    }
   ],
   "source": [
    "# Create a figure for the plot\n",
    "fig, ax = plt.subplots()\n",
    "\n",
    "# Count discoveries made using each method\n",
    "exoData['disc_facility'].value_counts().sort_values()[-10:].plot(ax=ax, kind='barh')\n",
    "\n",
    "# Plot number of discoveries for the 10 most productive facilities\n",
    "plt.title(\"Discoveries from the Top 10 Facilities\")\n",
    "plt.xlabel(\"Exoplanets Discovered\")\n",
    "plt.xlim(0,3000)\n",
    "plt.ylabel(\"Facility\")\n",
    "plt.xticks(rotation=30, horizontalalignment='right');"
   ]
  },
  {
   "cell_type": "markdown",
   "id": "b8eed2de",
   "metadata": {
    "papermill": {
     "duration": 0.014283,
     "end_time": "2025-01-01T18:11:15.237495",
     "exception": false,
     "start_time": "2025-01-01T18:11:15.223212",
     "status": "completed"
    },
    "tags": []
   },
   "source": [
    "The Kepler Space Telescope was the most productive facility used in exoplanet exploration. As the data below shows, Kepler was used to discovered more exoplanets than all of the other facilities combined. Interestingly, the Kepler Space Telescope faced a loss of functionality that resulted in the Kepler mission being terminated. Undetered, scientists were able to modify the way in which the Kepler satellite was being used and launched the K2 mission (the second most prolific discovery facility). (Kepler and K2 Missions, n.d.)"
   ]
  },
  {
   "cell_type": "code",
   "execution_count": 9,
   "id": "69354080",
   "metadata": {
    "execution": {
     "iopub.execute_input": "2025-01-01T18:11:15.266052Z",
     "iopub.status.busy": "2025-01-01T18:11:15.265564Z",
     "iopub.status.idle": "2025-01-01T18:11:15.275719Z",
     "shell.execute_reply": "2025-01-01T18:11:15.274494Z"
    },
    "papermill": {
     "duration": 0.027468,
     "end_time": "2025-01-01T18:11:15.278151",
     "exception": false,
     "start_time": "2025-01-01T18:11:15.250683",
     "status": "completed"
    },
    "tags": []
   },
   "outputs": [
    {
     "name": "stdout",
     "output_type": "stream",
     "text": [
      "Discoveries made by Kepler Space Telescope:  3252\n",
      "Discoveries made by all other facilities combined:  2060\n"
     ]
    }
   ],
   "source": [
    "# Compare Kepler discoveries to discoveries made by all other facilities combined\n",
    "keplerDiscoveries = exoData['disc_facility'].loc[exoData['disc_facility'] == 'Kepler'].count()\n",
    "k2Discoveries = exoData['disc_facility'].loc[exoData['disc_facility'] == 'K2'].count()\n",
    "otherFacilityDiscoveries = len(exoData) - keplerDiscoveries - k2Discoveries\n",
    "print('Discoveries made by Kepler Space Telescope: ', keplerDiscoveries + k2Discoveries)\n",
    "print('Discoveries made by all other facilities combined: ', otherFacilityDiscoveries)"
   ]
  },
  {
   "cell_type": "code",
   "execution_count": 10,
   "id": "12752b29",
   "metadata": {
    "execution": {
     "iopub.execute_input": "2025-01-01T18:11:15.306249Z",
     "iopub.status.busy": "2025-01-01T18:11:15.305879Z",
     "iopub.status.idle": "2025-01-01T18:11:15.313892Z",
     "shell.execute_reply": "2025-01-01T18:11:15.312736Z"
    },
    "papermill": {
     "duration": 0.024851,
     "end_time": "2025-01-01T18:11:15.316198",
     "exception": false,
     "start_time": "2025-01-01T18:11:15.291347",
     "status": "completed"
    },
    "tags": []
   },
   "outputs": [
    {
     "data": {
      "text/html": [
       "<img src=\"https://images-assets.nasa.gov/image/KSC-2009-1645/KSC-2009-1645~orig.jpg\" width=\"500\"/>"
      ],
      "text/plain": [
       "<IPython.core.display.Image object>"
      ]
     },
     "execution_count": 10,
     "metadata": {},
     "output_type": "execute_result"
    }
   ],
   "source": [
    "Image(url= \"https://images-assets.nasa.gov/image/KSC-2009-1645/KSC-2009-1645~orig.jpg\", width=500)"
   ]
  },
  {
   "cell_type": "markdown",
   "id": "623debdb",
   "metadata": {
    "papermill": {
     "duration": 0.012936,
     "end_time": "2025-01-01T18:11:15.342347",
     "exception": false,
     "start_time": "2025-01-01T18:11:15.329411",
     "status": "completed"
    },
    "tags": []
   },
   "source": [
    "Kepler Space Telescope preparing for launch.\n",
    "Photo by: NASA/Troy Cryder\n",
    "https://images.nasa.gov/details/KSC-2009-1645"
   ]
  },
  {
   "cell_type": "markdown",
   "id": "c20b2208",
   "metadata": {
    "papermill": {
     "duration": 0.012872,
     "end_time": "2025-01-01T18:11:15.368602",
     "exception": false,
     "start_time": "2025-01-01T18:11:15.355730",
     "status": "completed"
    },
    "tags": []
   },
   "source": [
    "## 3.4 Telescopes"
   ]
  },
  {
   "cell_type": "markdown",
   "id": "af7be287",
   "metadata": {
    "papermill": {
     "duration": 0.014284,
     "end_time": "2025-01-01T18:11:15.396972",
     "exception": false,
     "start_time": "2025-01-01T18:11:15.382688",
     "status": "completed"
    },
    "tags": []
   },
   "source": [
    "In addition to the discovery facility, the data set includes the discovery telescope. Looking at the data for each attribute, the telescope data includes the focal length of the instrument. Like a camera lens, telescopes have focal lengths which can be an indication of the size of the telescope. The larger the focal length, the larger the telescope. Below is a list of the unique telescopes found in this data set."
   ]
  },
  {
   "cell_type": "code",
   "execution_count": 11,
   "id": "b0a0768a",
   "metadata": {
    "execution": {
     "iopub.execute_input": "2025-01-01T18:11:15.425812Z",
     "iopub.status.busy": "2025-01-01T18:11:15.425428Z",
     "iopub.status.idle": "2025-01-01T18:11:15.433728Z",
     "shell.execute_reply": "2025-01-01T18:11:15.432619Z"
    },
    "papermill": {
     "duration": 0.024863,
     "end_time": "2025-01-01T18:11:15.435914",
     "exception": false,
     "start_time": "2025-01-01T18:11:15.411051",
     "status": "completed"
    },
    "tags": []
   },
   "outputs": [
    {
     "data": {
      "text/plain": [
       "array(['2.16 m Telescope', '2.0 m Alfred Jensch Telescope',\n",
       "       '1.88 m Telescope', '10 m Keck I Telescope', 'Multiple Telescopes',\n",
       "       'Coude Auxiliary Telescope', '8.19 m Gemini North Telescope',\n",
       "       '3.0 m C. Donald Shane Telescope', '8.2 m Subaru Telescope',\n",
       "       '8.2 m ESO VLT UT4 Yepun Telescope', '10 m Keck II Telescope',\n",
       "       '1.5 m CTIO Telescope', '2.4 m Hubble Space Telescope',\n",
       "       '0.95 m Kepler Telescope', '8.19 m Gemini South Telescope',\n",
       "       '1.93 m Telescope', '9.2 m Hobby-Eberly Telescope',\n",
       "       '3.9 m Anglo-Australian Telescope', '1.8 m Telescope',\n",
       "       '0.6 m Coude Auxiliary Telescope',\n",
       "       '8.2 m ESO VLT UT3 Melipal Telescope', '0.1 m TESS Telescope',\n",
       "       '3.58 m Telescopio Nazionale Galileo', '0.4 m Telescope',\n",
       "       '3.6 m ESO Telescope', '1.2 m Leonhard Euler Telescope',\n",
       "       '3.5 m telescope', '3.2 m telescope', '0.27 m CoRoT Telescope',\n",
       "       '8.2 m ESO VLT UT1 Antu Telescope',\n",
       "       '2.4 m Lijiang Station Telescope',\n",
       "       '0.85 m Spitzer Space Telescope', 'MEarth-South telescope array',\n",
       "       '0.4 m MEarth Telescope', 'Very Large Telescope (Antu)',\n",
       "       '2.4 m Automated Planet Finder Telescope',\n",
       "       '279mm RASA-11 wide-field telescope', '5.1 m Hale Telescope',\n",
       "       '1.45 m x 0.5 m Telescope', 'Canon 200mm f/1.8L',\n",
       "       '0.18 m Takahashi Epsilon Astrograph',\n",
       "       '0.9 m KPNO Coude Feed Telescope',\n",
       "       '6.5 m Magellan II Clay Telescope',\n",
       "       '0.3 m Ritchey-Chretien Telescope', '2.2 m MPG/ESO Telescope',\n",
       "       '2.7 m Harlan J. Smith Telescope',\n",
       "       '1.5 m Tillinghast Reflector Telescope', '1.52 m ESO Telescope',\n",
       "       '2.5m Sloan Digital Sky Survey (SDSS) Telescope',\n",
       "       'Atacama Large Millimeter Array (ALMA)', '1.5 m SMARTS telescope',\n",
       "       '1.4 m CAT Telescope', 'Mamiya 645 80mm f/1.9',\n",
       "       '1.6 m wide-field telescope',\n",
       "       'Rowe-Ackermann Schmidt Astrograph telescope',\n",
       "       'Large Binocular Telescope', '1.8 m MOA Telescope',\n",
       "       '20 cm Telescope', 'NGTS telescopes', '0.51 m Telescope',\n",
       "       '1.3 m Warsaw University Telescope',\n",
       "       '305 m Arecibo Radio Telescope', '64 m Parkes Radio Telescope',\n",
       "       'Canon 400mm f/2.8L', '2.15 m Jorge Sahade Telescope',\n",
       "       '6.5 m Magellan I Baade Telescope', '1.4 m IRSF Telescope',\n",
       "       '0.60 m Transiting Planets and Planetesimals Small Telescope',\n",
       "       '0.10 m Schmidt Telescope',\n",
       "       '3.8m United Kingdom Infrared Telescope (UKIRT)',\n",
       "       '4.20 m William Herschel Telescope', '4 m ESO Vista Telescope',\n",
       "       '3.8 m United Kingdom Infrared Telescope',\n",
       "       '1.8-m Ritchey-Chretien Telescope', '1.0 m McLellan telescope',\n",
       "       '2.7m Harlan J. Smith Telescope'], dtype=object)"
      ]
     },
     "execution_count": 11,
     "metadata": {},
     "output_type": "execute_result"
    }
   ],
   "source": [
    "exoData['disc_telescope'].unique()"
   ]
  },
  {
   "cell_type": "markdown",
   "id": "25151a41",
   "metadata": {
    "papermill": {
     "duration": 0.013247,
     "end_time": "2025-01-01T18:11:15.462457",
     "exception": false,
     "start_time": "2025-01-01T18:11:15.449210",
     "status": "completed"
    },
    "tags": []
   },
   "source": [
    "Rather than searching for the maximum and minimum focal lengths (i.e. smallest and largest telescopes) manually, these values can be extracted from these strings using regular expressions. Skimming over the list of descriptions, a number of units can be found. Some focal lengths are in meters while others are in millimeters. The whitespace and characters between the numeric values and the units also varies. Each of these is accounted for in the regular expression patterns below."
   ]
  },
  {
   "cell_type": "code",
   "execution_count": 12,
   "id": "0e6d3a62",
   "metadata": {
    "execution": {
     "iopub.execute_input": "2025-01-01T18:11:15.492463Z",
     "iopub.status.busy": "2025-01-01T18:11:15.491754Z",
     "iopub.status.idle": "2025-01-01T18:11:15.506501Z",
     "shell.execute_reply": "2025-01-01T18:11:15.505287Z"
    },
    "papermill": {
     "duration": 0.032694,
     "end_time": "2025-01-01T18:11:15.508771",
     "exception": false,
     "start_time": "2025-01-01T18:11:15.476077",
     "status": "completed"
    },
    "tags": []
   },
   "outputs": [
    {
     "data": {
      "text/plain": [
       "[2.16, 2.0, 1.88, 10.0, 8.19]"
      ]
     },
     "execution_count": 12,
     "metadata": {},
     "output_type": "execute_result"
    }
   ],
   "source": [
    "# Extract all scopes with focal lengths in meters\n",
    "meterScopes = exoData['disc_telescope'].str.extract('([0-9\\.0-9]+\\s[m]|[0-9\\.0-9]+\\-[m]|[0-9\\.0-9]+m\\s)', \\\n",
    "                                                    expand=False).unique()\n",
    "\n",
    "# Remove nan values\n",
    "meterScopes = [x for x in meterScopes if x is not nan]\n",
    "\n",
    "# Remove 'm' and convert to meters\n",
    "meterScopes = [float(x[:-2]) for x in meterScopes]\n",
    "\n",
    "# Look at the first few values\n",
    "meterScopes[:5]"
   ]
  },
  {
   "cell_type": "code",
   "execution_count": 13,
   "id": "80e86771",
   "metadata": {
    "execution": {
     "iopub.execute_input": "2025-01-01T18:11:15.539079Z",
     "iopub.status.busy": "2025-01-01T18:11:15.538596Z",
     "iopub.status.idle": "2025-01-01T18:11:15.555501Z",
     "shell.execute_reply": "2025-01-01T18:11:15.554444Z"
    },
    "papermill": {
     "duration": 0.033969,
     "end_time": "2025-01-01T18:11:15.557705",
     "exception": false,
     "start_time": "2025-01-01T18:11:15.523736",
     "status": "completed"
    },
    "tags": []
   },
   "outputs": [
    {
     "data": {
      "text/plain": [
       "[0.279, 0.2, 0.08, 0.4]"
      ]
     },
     "execution_count": 13,
     "metadata": {},
     "output_type": "execute_result"
    }
   ],
   "source": [
    "# Extract all scopes with focal lengths in millimeters\n",
    "millimeterScopes = exoData['disc_telescope'].str.extract('([0-9\\.0-9]+\\s?mm)', expand=False).unique()\n",
    "\n",
    "# Remove nan value\n",
    "millimeterScopes = [x for x in millimeterScopes if x is not nan]\n",
    "\n",
    "# Remove 'mm' and convert to meters\n",
    "millimeterScopes = [int(x[:-2])/1000 for x in millimeterScopes]\n",
    "\n",
    "# View values\n",
    "millimeterScopes"
   ]
  },
  {
   "cell_type": "code",
   "execution_count": 14,
   "id": "7c8a0f23",
   "metadata": {
    "execution": {
     "iopub.execute_input": "2025-01-01T18:11:15.586372Z",
     "iopub.status.busy": "2025-01-01T18:11:15.586040Z",
     "iopub.status.idle": "2025-01-01T18:11:15.591779Z",
     "shell.execute_reply": "2025-01-01T18:11:15.590789Z"
    },
    "papermill": {
     "duration": 0.022881,
     "end_time": "2025-01-01T18:11:15.594077",
     "exception": false,
     "start_time": "2025-01-01T18:11:15.571196",
     "status": "completed"
    },
    "tags": []
   },
   "outputs": [
    {
     "name": "stdout",
     "output_type": "stream",
     "text": [
      "Range of telescope focal lengths\n",
      "\tLargest:  305.0 m\n",
      "\tSmallest:  0.08 m\n"
     ]
    }
   ],
   "source": [
    "# Combine telescope focal length lists\n",
    "focalLengths = meterScopes + millimeterScopes\n",
    "\n",
    "print('Range of telescope focal lengths')\n",
    "print('\\tLargest: ', max(focalLengths), 'm')\n",
    "print('\\tSmallest: ', min(focalLengths), 'm')"
   ]
  },
  {
   "cell_type": "markdown",
   "id": "ea90320c",
   "metadata": {
    "papermill": {
     "duration": 0.014442,
     "end_time": "2025-01-01T18:11:15.622183",
     "exception": false,
     "start_time": "2025-01-01T18:11:15.607741",
     "status": "completed"
    },
    "tags": []
   },
   "source": [
    "The range of telescopes used for exoplanet exploration is quite wide. The largest and smallest telescopes can be found using the lines of code below:"
   ]
  },
  {
   "cell_type": "code",
   "execution_count": 15,
   "id": "6b07ea21",
   "metadata": {
    "execution": {
     "iopub.execute_input": "2025-01-01T18:11:15.651776Z",
     "iopub.status.busy": "2025-01-01T18:11:15.651418Z",
     "iopub.status.idle": "2025-01-01T18:11:15.659777Z",
     "shell.execute_reply": "2025-01-01T18:11:15.658714Z"
    },
    "papermill": {
     "duration": 0.025538,
     "end_time": "2025-01-01T18:11:15.662329",
     "exception": false,
     "start_time": "2025-01-01T18:11:15.636791",
     "status": "completed"
    },
    "tags": []
   },
   "outputs": [
    {
     "name": "stdout",
     "output_type": "stream",
     "text": [
      "Largest telescope: \t 305 m Arecibo Radio Telescope\n"
     ]
    }
   ],
   "source": [
    "print('Largest telescope: \\t',exoData['disc_telescope'][exoData['disc_telescope'].str.contains(\"305\")].unique()[0])"
   ]
  },
  {
   "cell_type": "markdown",
   "id": "cefcca13",
   "metadata": {
    "papermill": {
     "duration": 0.013669,
     "end_time": "2025-01-01T18:11:15.689610",
     "exception": false,
     "start_time": "2025-01-01T18:11:15.675941",
     "status": "completed"
    },
    "tags": []
   },
   "source": [
    "Arecibo is the largest telescope in the data set. In fact, it was the second largest telescope in the world. This telescope was used for a variety of scientific pursuits until it collapsed in 2020. (Howell & Stein, 2022)"
   ]
  },
  {
   "cell_type": "code",
   "execution_count": 16,
   "id": "e62ccdd2",
   "metadata": {
    "execution": {
     "iopub.execute_input": "2025-01-01T18:11:15.719291Z",
     "iopub.status.busy": "2025-01-01T18:11:15.718936Z",
     "iopub.status.idle": "2025-01-01T18:11:15.725851Z",
     "shell.execute_reply": "2025-01-01T18:11:15.724760Z"
    },
    "papermill": {
     "duration": 0.024606,
     "end_time": "2025-01-01T18:11:15.727915",
     "exception": false,
     "start_time": "2025-01-01T18:11:15.703309",
     "status": "completed"
    },
    "tags": []
   },
   "outputs": [
    {
     "data": {
      "text/html": [
       "<img src=\"https://upload.wikimedia.org/wikipedia/commons/c/cd/Arecibo_Observatory_Aerial_View.jpg\" width=\"500\"/>"
      ],
      "text/plain": [
       "<IPython.core.display.Image object>"
      ]
     },
     "execution_count": 16,
     "metadata": {},
     "output_type": "execute_result"
    }
   ],
   "source": [
    "Image(url= \"https://upload.wikimedia.org/wikipedia/commons/c/cd/Arecibo_Observatory_Aerial_View.jpg\", width=500)"
   ]
  },
  {
   "cell_type": "markdown",
   "id": "adba8793",
   "metadata": {
    "papermill": {
     "duration": 0.013386,
     "end_time": "2025-01-01T18:11:15.755302",
     "exception": false,
     "start_time": "2025-01-01T18:11:15.741916",
     "status": "completed"
    },
    "tags": []
   },
   "source": [
    "Arecibo, Panama. Photo by: Author H. Schweiker/WIYN and NOAO/AURA/NSF"
   ]
  },
  {
   "cell_type": "code",
   "execution_count": 17,
   "id": "f413b778",
   "metadata": {
    "execution": {
     "iopub.execute_input": "2025-01-01T18:11:15.784436Z",
     "iopub.status.busy": "2025-01-01T18:11:15.784072Z",
     "iopub.status.idle": "2025-01-01T18:11:15.792935Z",
     "shell.execute_reply": "2025-01-01T18:11:15.791794Z"
    },
    "papermill": {
     "duration": 0.025912,
     "end_time": "2025-01-01T18:11:15.795171",
     "exception": false,
     "start_time": "2025-01-01T18:11:15.769259",
     "status": "completed"
    },
    "tags": []
   },
   "outputs": [
    {
     "name": "stdout",
     "output_type": "stream",
     "text": [
      "Smallest telescope: \t Mamiya 645 80mm f/1.9\n"
     ]
    }
   ],
   "source": [
    "print('Smallest telescope: \\t',exoData['disc_telescope'][exoData['disc_telescope'].str.contains(\"80\")].unique()[0])"
   ]
  },
  {
   "cell_type": "code",
   "execution_count": 18,
   "id": "d10b5bfc",
   "metadata": {
    "execution": {
     "iopub.execute_input": "2025-01-01T18:11:15.824499Z",
     "iopub.status.busy": "2025-01-01T18:11:15.824139Z",
     "iopub.status.idle": "2025-01-01T18:11:15.832739Z",
     "shell.execute_reply": "2025-01-01T18:11:15.831612Z"
    },
    "papermill": {
     "duration": 0.025785,
     "end_time": "2025-01-01T18:11:15.834844",
     "exception": false,
     "start_time": "2025-01-01T18:11:15.809059",
     "status": "completed"
    },
    "tags": []
   },
   "outputs": [
    {
     "data": {
      "text/plain": [
       "array(['KELT', 'KELT-South', 'KELT-North'], dtype=object)"
      ]
     },
     "execution_count": 18,
     "metadata": {},
     "output_type": "execute_result"
    }
   ],
   "source": [
    "exoData['disc_facility'].loc[exoData['disc_telescope']=='Mamiya 645 80mm f/1.9'].unique()"
   ]
  },
  {
   "cell_type": "markdown",
   "id": "cb904804",
   "metadata": {
    "papermill": {
     "duration": 0.013552,
     "end_time": "2025-01-01T18:11:15.862383",
     "exception": false,
     "start_time": "2025-01-01T18:11:15.848831",
     "status": "completed"
    },
    "tags": []
   },
   "source": [
    "The smallest telescope uses the Mamiya 80mm f/1.9 lens. This is a medium format camera lens widely used in professional and hobby photography."
   ]
  },
  {
   "cell_type": "code",
   "execution_count": 19,
   "id": "43c651a6",
   "metadata": {
    "execution": {
     "iopub.execute_input": "2025-01-01T18:11:15.892817Z",
     "iopub.status.busy": "2025-01-01T18:11:15.892428Z",
     "iopub.status.idle": "2025-01-01T18:11:15.899119Z",
     "shell.execute_reply": "2025-01-01T18:11:15.898133Z"
    },
    "papermill": {
     "duration": 0.024198,
     "end_time": "2025-01-01T18:11:15.901345",
     "exception": false,
     "start_time": "2025-01-01T18:11:15.877147",
     "status": "completed"
    },
    "tags": []
   },
   "outputs": [
    {
     "data": {
      "text/html": [
       "<img src=\"https://astronomy.osu.edu/sites/default/files/styles/slideshow_image/public/2024-01/KELT-N.jpg\" width=\"500\"/>"
      ],
      "text/plain": [
       "<IPython.core.display.Image object>"
      ]
     },
     "execution_count": 19,
     "metadata": {},
     "output_type": "execute_result"
    }
   ],
   "source": [
    "Image(url= \"https://astronomy.osu.edu/sites/default/files/styles/slideshow_image/public/2024-01/KELT-N.jpg\", width=500)"
   ]
  },
  {
   "cell_type": "markdown",
   "id": "df163bdd",
   "metadata": {
    "papermill": {
     "duration": 0.013808,
     "end_time": "2025-01-01T18:11:15.929577",
     "exception": false,
     "start_time": "2025-01-01T18:11:15.915769",
     "status": "completed"
    },
    "tags": []
   },
   "source": [
    "The KELT-South telescope with the Mamiya 645 80mm f1.9 lens. Photo from https://keltsurvey.org/telescopes"
   ]
  },
  {
   "cell_type": "markdown",
   "id": "6ce22354",
   "metadata": {
    "papermill": {
     "duration": 0.014315,
     "end_time": "2025-01-01T18:11:15.958443",
     "exception": false,
     "start_time": "2025-01-01T18:11:15.944128",
     "status": "completed"
    },
    "tags": []
   },
   "source": [
    "# 4.0 Exploring Exoplanets\n",
    "\n",
    "With the above understanding of the methods, facilities, and telescopes used for exoplanet exploration, the next part of this report focuses on the planets themselves."
   ]
  },
  {
   "cell_type": "markdown",
   "id": "1b9cd65a",
   "metadata": {
    "papermill": {
     "duration": 0.014271,
     "end_time": "2025-01-01T18:11:15.987570",
     "exception": false,
     "start_time": "2025-01-01T18:11:15.973299",
     "status": "completed"
    },
    "tags": []
   },
   "source": [
    "## 4.1 Basic Exoplanet Statistics\n",
    "\n",
    "To get a sense of the selected exoplanet attributes the describe method is used may be used on the exoData dataframe."
   ]
  },
  {
   "cell_type": "code",
   "execution_count": 20,
   "id": "4be541d0",
   "metadata": {
    "execution": {
     "iopub.execute_input": "2025-01-01T18:11:16.018066Z",
     "iopub.status.busy": "2025-01-01T18:11:16.017680Z",
     "iopub.status.idle": "2025-01-01T18:11:16.048531Z",
     "shell.execute_reply": "2025-01-01T18:11:16.047459Z"
    },
    "papermill": {
     "duration": 0.048957,
     "end_time": "2025-01-01T18:11:16.050898",
     "exception": false,
     "start_time": "2025-01-01T18:11:16.001941",
     "status": "completed"
    },
    "scrolled": true,
    "tags": []
   },
   "outputs": [
    {
     "data": {
      "text/html": [
       "<div>\n",
       "<style scoped>\n",
       "    .dataframe tbody tr th:only-of-type {\n",
       "        vertical-align: middle;\n",
       "    }\n",
       "\n",
       "    .dataframe tbody tr th {\n",
       "        vertical-align: top;\n",
       "    }\n",
       "\n",
       "    .dataframe thead th {\n",
       "        text-align: right;\n",
       "    }\n",
       "</style>\n",
       "<table border=\"1\" class=\"dataframe\">\n",
       "  <thead>\n",
       "    <tr style=\"text-align: right;\">\n",
       "      <th></th>\n",
       "      <th>sy_snum</th>\n",
       "      <th>sy_pnum</th>\n",
       "      <th>disc_year</th>\n",
       "      <th>pl_orbper</th>\n",
       "      <th>pl_rade</th>\n",
       "      <th>pl_bmasse</th>\n",
       "      <th>sy_dist</th>\n",
       "    </tr>\n",
       "  </thead>\n",
       "  <tbody>\n",
       "    <tr>\n",
       "      <th>count</th>\n",
       "      <td>5312.000000</td>\n",
       "      <td>5312.000000</td>\n",
       "      <td>5312.000000</td>\n",
       "      <td>5.095000e+03</td>\n",
       "      <td>5295.000000</td>\n",
       "      <td>5288.000000</td>\n",
       "      <td>5294.000000</td>\n",
       "    </tr>\n",
       "    <tr>\n",
       "      <th>mean</th>\n",
       "      <td>1.101657</td>\n",
       "      <td>1.761295</td>\n",
       "      <td>2015.814194</td>\n",
       "      <td>8.277421e+04</td>\n",
       "      <td>5.677536</td>\n",
       "      <td>458.429938</td>\n",
       "      <td>684.981687</td>\n",
       "    </tr>\n",
       "    <tr>\n",
       "      <th>std</th>\n",
       "      <td>0.337542</td>\n",
       "      <td>1.151597</td>\n",
       "      <td>4.348273</td>\n",
       "      <td>5.633944e+06</td>\n",
       "      <td>5.334342</td>\n",
       "      <td>3737.258351</td>\n",
       "      <td>1052.595503</td>\n",
       "    </tr>\n",
       "    <tr>\n",
       "      <th>min</th>\n",
       "      <td>1.000000</td>\n",
       "      <td>1.000000</td>\n",
       "      <td>1992.000000</td>\n",
       "      <td>9.070629e-02</td>\n",
       "      <td>0.296000</td>\n",
       "      <td>0.020000</td>\n",
       "      <td>1.301190</td>\n",
       "    </tr>\n",
       "    <tr>\n",
       "      <th>25%</th>\n",
       "      <td>1.000000</td>\n",
       "      <td>1.000000</td>\n",
       "      <td>2014.000000</td>\n",
       "      <td>4.449656e+00</td>\n",
       "      <td>1.770000</td>\n",
       "      <td>4.000000</td>\n",
       "      <td>121.402750</td>\n",
       "    </tr>\n",
       "    <tr>\n",
       "      <th>50%</th>\n",
       "      <td>1.000000</td>\n",
       "      <td>1.000000</td>\n",
       "      <td>2016.000000</td>\n",
       "      <td>1.155562e+01</td>\n",
       "      <td>2.759000</td>\n",
       "      <td>8.568065</td>\n",
       "      <td>420.516000</td>\n",
       "    </tr>\n",
       "    <tr>\n",
       "      <th>75%</th>\n",
       "      <td>1.000000</td>\n",
       "      <td>2.000000</td>\n",
       "      <td>2019.000000</td>\n",
       "      <td>4.099920e+01</td>\n",
       "      <td>11.882000</td>\n",
       "      <td>162.092490</td>\n",
       "      <td>854.204250</td>\n",
       "    </tr>\n",
       "    <tr>\n",
       "      <th>max</th>\n",
       "      <td>4.000000</td>\n",
       "      <td>8.000000</td>\n",
       "      <td>2023.000000</td>\n",
       "      <td>4.020000e+08</td>\n",
       "      <td>77.342000</td>\n",
       "      <td>239000.000000</td>\n",
       "      <td>8500.000000</td>\n",
       "    </tr>\n",
       "  </tbody>\n",
       "</table>\n",
       "</div>"
      ],
      "text/plain": [
       "           sy_snum      sy_pnum    disc_year     pl_orbper      pl_rade  \\\n",
       "count  5312.000000  5312.000000  5312.000000  5.095000e+03  5295.000000   \n",
       "mean      1.101657     1.761295  2015.814194  8.277421e+04     5.677536   \n",
       "std       0.337542     1.151597     4.348273  5.633944e+06     5.334342   \n",
       "min       1.000000     1.000000  1992.000000  9.070629e-02     0.296000   \n",
       "25%       1.000000     1.000000  2014.000000  4.449656e+00     1.770000   \n",
       "50%       1.000000     1.000000  2016.000000  1.155562e+01     2.759000   \n",
       "75%       1.000000     2.000000  2019.000000  4.099920e+01    11.882000   \n",
       "max       4.000000     8.000000  2023.000000  4.020000e+08    77.342000   \n",
       "\n",
       "           pl_bmasse      sy_dist  \n",
       "count    5288.000000  5294.000000  \n",
       "mean      458.429938   684.981687  \n",
       "std      3737.258351  1052.595503  \n",
       "min         0.020000     1.301190  \n",
       "25%         4.000000   121.402750  \n",
       "50%         8.568065   420.516000  \n",
       "75%       162.092490   854.204250  \n",
       "max    239000.000000  8500.000000  "
      ]
     },
     "execution_count": 20,
     "metadata": {},
     "output_type": "execute_result"
    }
   ],
   "source": [
    "exoData.describe()"
   ]
  },
  {
   "cell_type": "markdown",
   "id": "38290392",
   "metadata": {
    "papermill": {
     "duration": 0.01387,
     "end_time": "2025-01-01T18:11:16.079057",
     "exception": false,
     "start_time": "2025-01-01T18:11:16.065187",
     "status": "completed"
    },
    "tags": []
   },
   "source": [
    "Several of the above statistical measures are noteworthy. The first is the standard deviation of both the planet mass and system distance. These deviations values of 3,737 and 685 respectively are very large and as such the variability of these measures is also large.\n",
    "\n",
    "Other interesting measures include the minimum and maximum values for planet mass. The minimum value is 0.02, a planet that is only 2% of the mass of earth. To put that in perspective, Earth's moon is 0.01 Earth masses, this the smallest exoplanet discovered is only twice the size of the moon. At the other end of the planet masses is a planet that is 239,000 times that of Earth.\n",
    "\n",
    "The maximum value for 'sy_snum' indicates that a star system has been discovered that is comprised of four stars, an interesting contrast to our own single star system.\n",
    "\n",
    "Finally, the maximum number of planets discovered in a single system is 8. This is significant given the nature of the discovery methods used to detect exoplanets. These will be discussed in more detail below but, in short, many of the methods rely on the fluctuation in brightness of a star that occurs when a planet passes between the observatory and the star."
   ]
  },
  {
   "cell_type": "code",
   "execution_count": 21,
   "id": "16189b95",
   "metadata": {
    "execution": {
     "iopub.execute_input": "2025-01-01T18:11:16.108843Z",
     "iopub.status.busy": "2025-01-01T18:11:16.108478Z",
     "iopub.status.idle": "2025-01-01T18:11:16.126618Z",
     "shell.execute_reply": "2025-01-01T18:11:16.125388Z"
    },
    "papermill": {
     "duration": 0.035701,
     "end_time": "2025-01-01T18:11:16.128855",
     "exception": false,
     "start_time": "2025-01-01T18:11:16.093154",
     "status": "completed"
    },
    "tags": []
   },
   "outputs": [
    {
     "data": {
      "text/html": [
       "<div>\n",
       "<style scoped>\n",
       "    .dataframe tbody tr th:only-of-type {\n",
       "        vertical-align: middle;\n",
       "    }\n",
       "\n",
       "    .dataframe tbody tr th {\n",
       "        vertical-align: top;\n",
       "    }\n",
       "\n",
       "    .dataframe thead th {\n",
       "        text-align: right;\n",
       "    }\n",
       "</style>\n",
       "<table border=\"1\" class=\"dataframe\">\n",
       "  <thead>\n",
       "    <tr style=\"text-align: right;\">\n",
       "      <th></th>\n",
       "      <th>pl_name</th>\n",
       "      <th>sy_snum</th>\n",
       "      <th>sy_pnum</th>\n",
       "      <th>discoverymethod</th>\n",
       "      <th>disc_year</th>\n",
       "      <th>disc_facility</th>\n",
       "      <th>disc_telescope</th>\n",
       "      <th>pl_orbper</th>\n",
       "      <th>pl_rade</th>\n",
       "      <th>pl_bmasse</th>\n",
       "      <th>sy_dist</th>\n",
       "    </tr>\n",
       "  </thead>\n",
       "  <tbody>\n",
       "    <tr>\n",
       "      <th>1861</th>\n",
       "      <td>KOI-351 b</td>\n",
       "      <td>1</td>\n",
       "      <td>8</td>\n",
       "      <td>Transit</td>\n",
       "      <td>2013</td>\n",
       "      <td>Kepler</td>\n",
       "      <td>0.95 m Kepler Telescope</td>\n",
       "      <td>7.008151</td>\n",
       "      <td>1.31</td>\n",
       "      <td>2.270</td>\n",
       "      <td>848.254</td>\n",
       "    </tr>\n",
       "    <tr>\n",
       "      <th>1862</th>\n",
       "      <td>KOI-351 c</td>\n",
       "      <td>1</td>\n",
       "      <td>8</td>\n",
       "      <td>Transit</td>\n",
       "      <td>2013</td>\n",
       "      <td>Kepler</td>\n",
       "      <td>0.95 m Kepler Telescope</td>\n",
       "      <td>8.719375</td>\n",
       "      <td>1.19</td>\n",
       "      <td>1.810</td>\n",
       "      <td>848.254</td>\n",
       "    </tr>\n",
       "    <tr>\n",
       "      <th>1863</th>\n",
       "      <td>KOI-351 d</td>\n",
       "      <td>1</td>\n",
       "      <td>8</td>\n",
       "      <td>Transit</td>\n",
       "      <td>2013</td>\n",
       "      <td>Kepler</td>\n",
       "      <td>0.95 m Kepler Telescope</td>\n",
       "      <td>59.736670</td>\n",
       "      <td>2.87</td>\n",
       "      <td>8.600</td>\n",
       "      <td>848.254</td>\n",
       "    </tr>\n",
       "    <tr>\n",
       "      <th>1864</th>\n",
       "      <td>KOI-351 e</td>\n",
       "      <td>1</td>\n",
       "      <td>8</td>\n",
       "      <td>Transit</td>\n",
       "      <td>2013</td>\n",
       "      <td>Kepler</td>\n",
       "      <td>0.95 m Kepler Telescope</td>\n",
       "      <td>91.939130</td>\n",
       "      <td>2.66</td>\n",
       "      <td>7.560</td>\n",
       "      <td>848.254</td>\n",
       "    </tr>\n",
       "    <tr>\n",
       "      <th>1865</th>\n",
       "      <td>KOI-351 f</td>\n",
       "      <td>1</td>\n",
       "      <td>8</td>\n",
       "      <td>Transit</td>\n",
       "      <td>2013</td>\n",
       "      <td>Kepler</td>\n",
       "      <td>0.95 m Kepler Telescope</td>\n",
       "      <td>124.914400</td>\n",
       "      <td>2.88</td>\n",
       "      <td>8.650</td>\n",
       "      <td>848.254</td>\n",
       "    </tr>\n",
       "    <tr>\n",
       "      <th>1866</th>\n",
       "      <td>KOI-351 g</td>\n",
       "      <td>1</td>\n",
       "      <td>8</td>\n",
       "      <td>Transit</td>\n",
       "      <td>2013</td>\n",
       "      <td>Kepler</td>\n",
       "      <td>0.95 m Kepler Telescope</td>\n",
       "      <td>210.606970</td>\n",
       "      <td>8.10</td>\n",
       "      <td>254.264</td>\n",
       "      <td>848.254</td>\n",
       "    </tr>\n",
       "    <tr>\n",
       "      <th>1867</th>\n",
       "      <td>KOI-351 h</td>\n",
       "      <td>1</td>\n",
       "      <td>8</td>\n",
       "      <td>Transit</td>\n",
       "      <td>2013</td>\n",
       "      <td>Kepler</td>\n",
       "      <td>0.95 m Kepler Telescope</td>\n",
       "      <td>331.600590</td>\n",
       "      <td>11.30</td>\n",
       "      <td>381.396</td>\n",
       "      <td>848.254</td>\n",
       "    </tr>\n",
       "    <tr>\n",
       "      <th>4437</th>\n",
       "      <td>Kepler-90 i</td>\n",
       "      <td>1</td>\n",
       "      <td>8</td>\n",
       "      <td>Transit</td>\n",
       "      <td>2017</td>\n",
       "      <td>Kepler</td>\n",
       "      <td>0.95 m Kepler Telescope</td>\n",
       "      <td>14.449120</td>\n",
       "      <td>1.32</td>\n",
       "      <td>2.300</td>\n",
       "      <td>848.254</td>\n",
       "    </tr>\n",
       "  </tbody>\n",
       "</table>\n",
       "</div>"
      ],
      "text/plain": [
       "          pl_name  sy_snum  sy_pnum discoverymethod  disc_year disc_facility  \\\n",
       "1861    KOI-351 b        1        8         Transit       2013        Kepler   \n",
       "1862    KOI-351 c        1        8         Transit       2013        Kepler   \n",
       "1863    KOI-351 d        1        8         Transit       2013        Kepler   \n",
       "1864    KOI-351 e        1        8         Transit       2013        Kepler   \n",
       "1865    KOI-351 f        1        8         Transit       2013        Kepler   \n",
       "1866    KOI-351 g        1        8         Transit       2013        Kepler   \n",
       "1867    KOI-351 h        1        8         Transit       2013        Kepler   \n",
       "4437  Kepler-90 i        1        8         Transit       2017        Kepler   \n",
       "\n",
       "               disc_telescope   pl_orbper  pl_rade  pl_bmasse  sy_dist  \n",
       "1861  0.95 m Kepler Telescope    7.008151     1.31      2.270  848.254  \n",
       "1862  0.95 m Kepler Telescope    8.719375     1.19      1.810  848.254  \n",
       "1863  0.95 m Kepler Telescope   59.736670     2.87      8.600  848.254  \n",
       "1864  0.95 m Kepler Telescope   91.939130     2.66      7.560  848.254  \n",
       "1865  0.95 m Kepler Telescope  124.914400     2.88      8.650  848.254  \n",
       "1866  0.95 m Kepler Telescope  210.606970     8.10    254.264  848.254  \n",
       "1867  0.95 m Kepler Telescope  331.600590    11.30    381.396  848.254  \n",
       "4437  0.95 m Kepler Telescope   14.449120     1.32      2.300  848.254  "
      ]
     },
     "execution_count": 21,
     "metadata": {},
     "output_type": "execute_result"
    }
   ],
   "source": [
    "# Look at the system with 8 exoplanets\n",
    "exoData.loc[exoData['sy_pnum']==8]"
   ]
  },
  {
   "cell_type": "markdown",
   "id": "60f15742",
   "metadata": {
    "papermill": {
     "duration": 0.014295,
     "end_time": "2025-01-01T18:11:16.157769",
     "exception": false,
     "start_time": "2025-01-01T18:11:16.143474",
     "status": "completed"
    },
    "tags": []
   },
   "source": [
    "This is a significant discovery given the number of planets discovered coupled with the method used, namely, the transit method. With the transit method, exoplanets are confirmed by measuring the dimming of a star as a planet passes in front of it. Eight planets orbiting a single star (as denoted by sy_snum = 1) would create a complex dimming pattern.\n",
    "\n",
    "The longest orbital period (pl_orbper) is 331.6 days. This suggests that the Kepler Telescope was aimed with this particular system in its sights for an extended period of time.\n",
    "\n",
    "Note that the distance to the system (sy_dist) confirms that all eight of these planets are the same distance from our own system."
   ]
  },
  {
   "cell_type": "markdown",
   "id": "6f8494c9",
   "metadata": {
    "papermill": {
     "duration": 0.014399,
     "end_time": "2025-01-01T18:11:16.188557",
     "exception": false,
     "start_time": "2025-01-01T18:11:16.174158",
     "status": "completed"
    },
    "tags": []
   },
   "source": [
    "#### Exoplanet with the longest orbital period\n",
    "\n",
    "Returning to the .describe() function results above, one additional attribute value worth exploring is the maximum orbital period. Below is the exoplanet record for the longest orbital period."
   ]
  },
  {
   "cell_type": "code",
   "execution_count": 22,
   "id": "abc85261",
   "metadata": {
    "execution": {
     "iopub.execute_input": "2025-01-01T18:11:16.221264Z",
     "iopub.status.busy": "2025-01-01T18:11:16.220909Z",
     "iopub.status.idle": "2025-01-01T18:11:16.237932Z",
     "shell.execute_reply": "2025-01-01T18:11:16.236728Z"
    },
    "papermill": {
     "duration": 0.036478,
     "end_time": "2025-01-01T18:11:16.240237",
     "exception": false,
     "start_time": "2025-01-01T18:11:16.203759",
     "status": "completed"
    },
    "tags": []
   },
   "outputs": [
    {
     "data": {
      "text/html": [
       "<div>\n",
       "<style scoped>\n",
       "    .dataframe tbody tr th:only-of-type {\n",
       "        vertical-align: middle;\n",
       "    }\n",
       "\n",
       "    .dataframe tbody tr th {\n",
       "        vertical-align: top;\n",
       "    }\n",
       "\n",
       "    .dataframe thead th {\n",
       "        text-align: right;\n",
       "    }\n",
       "</style>\n",
       "<table border=\"1\" class=\"dataframe\">\n",
       "  <thead>\n",
       "    <tr style=\"text-align: right;\">\n",
       "      <th></th>\n",
       "      <th>pl_name</th>\n",
       "      <th>sy_snum</th>\n",
       "      <th>sy_pnum</th>\n",
       "      <th>discoverymethod</th>\n",
       "      <th>disc_year</th>\n",
       "      <th>disc_facility</th>\n",
       "      <th>disc_telescope</th>\n",
       "      <th>pl_orbper</th>\n",
       "      <th>pl_rade</th>\n",
       "      <th>pl_bmasse</th>\n",
       "      <th>sy_dist</th>\n",
       "    </tr>\n",
       "  </thead>\n",
       "  <tbody>\n",
       "    <tr>\n",
       "      <th>78</th>\n",
       "      <td>COCONUTS-2 b</td>\n",
       "      <td>1</td>\n",
       "      <td>1</td>\n",
       "      <td>Imaging</td>\n",
       "      <td>2021</td>\n",
       "      <td>NASA Infrared Telescope Facility (IRTF)</td>\n",
       "      <td>3.2 m telescope</td>\n",
       "      <td>402000000.0</td>\n",
       "      <td>12.442</td>\n",
       "      <td>2002.31896</td>\n",
       "      <td>10.8864</td>\n",
       "    </tr>\n",
       "  </tbody>\n",
       "</table>\n",
       "</div>"
      ],
      "text/plain": [
       "         pl_name  sy_snum  sy_pnum discoverymethod  disc_year  \\\n",
       "78  COCONUTS-2 b        1        1         Imaging       2021   \n",
       "\n",
       "                              disc_facility   disc_telescope    pl_orbper  \\\n",
       "78  NASA Infrared Telescope Facility (IRTF)  3.2 m telescope  402000000.0   \n",
       "\n",
       "    pl_rade   pl_bmasse  sy_dist  \n",
       "78   12.442  2002.31896  10.8864  "
      ]
     },
     "execution_count": 22,
     "metadata": {},
     "output_type": "execute_result"
    }
   ],
   "source": [
    "exoData.loc[exoData['pl_orbper']== exoData['pl_orbper'].max()]"
   ]
  },
  {
   "cell_type": "markdown",
   "id": "2990b8c8",
   "metadata": {
    "papermill": {
     "duration": 0.014511,
     "end_time": "2025-01-01T18:11:16.269325",
     "exception": false,
     "start_time": "2025-01-01T18:11:16.254814",
     "status": "completed"
    },
    "tags": []
   },
   "source": [
    "Coconuts-2b has an orbital period of 4.02E+8 days, or 1.1 million (Earth) years. This planet was discovered through direct imaging at the Nasa Infrared Telescope Facility located in Maunakea, Hawaii. While direct imaging is not the most prolific discovery method (as illustrated above), it represents an important opportunity for planetary discovery.\n",
    "\n",
    "As previously mentioned, most methods of detecting exoplanets rely on indirect methods of detection, namely the distortion of light. When planets repeatedly pass between the observatory and their system's star, the light will dim, pulse, or bend at a detectable rate. With an orbital period of 1.1 million years, such a pattern would not have been detectable. Certainly not within the 31 years scientists have been observing exoplanets.\n",
    "\n",
    "Direct imaging made the discovery of this planet possible. This method, however, only works with planets of a particular size and makeup such that it can reflect infrared light from the star around which it orbits. Generally, this is limited to large gas giants. Thus there are gaps in the detection methods that prevent a variety of planet sizes and types from being discovered."
   ]
  },
  {
   "cell_type": "markdown",
   "id": "688c81d8",
   "metadata": {
    "papermill": {
     "duration": 0.014502,
     "end_time": "2025-01-01T18:11:16.299073",
     "exception": false,
     "start_time": "2025-01-01T18:11:16.284571",
     "status": "completed"
    },
    "tags": []
   },
   "source": [
    "## 4.2 Planet Size\n",
    "\n",
    "One way to understand how the science of exoplanet discovery has changed over time is to look at the size of the planets discovered. A reasonable first assumption might be that larger planets would be easier to spot than smaller planets.\n",
    "\n",
    "Further insights can be made by coloring each exoplanet data point according to the discovery method used to identify the planet. This next plot incorporates both attributes."
   ]
  },
  {
   "cell_type": "code",
   "execution_count": 23,
   "id": "0b99d19d",
   "metadata": {
    "execution": {
     "iopub.execute_input": "2025-01-01T18:11:16.331254Z",
     "iopub.status.busy": "2025-01-01T18:11:16.330873Z",
     "iopub.status.idle": "2025-01-01T18:11:17.548683Z",
     "shell.execute_reply": "2025-01-01T18:11:17.547599Z"
    },
    "papermill": {
     "duration": 1.237246,
     "end_time": "2025-01-01T18:11:17.552024",
     "exception": false,
     "start_time": "2025-01-01T18:11:16.314778",
     "status": "completed"
    },
    "tags": []
   },
   "outputs": [
    {
     "data": {
      "image/png": "[encoded data removed]",
      "text/plain": [
       "<Figure size 640x480 with 1 Axes>"
      ]
     },
     "metadata": {},
     "output_type": "display_data"
    }
   ],
   "source": [
    "sns.stripplot(data = exoData, x='disc_year', y='pl_rade', jitter=0.3, hue='discoverymethod', alpha=0.60);\n",
    "plt.title(\"Exoplanet Radius\")\n",
    "\n",
    "plt.ylabel(\"Earth Radius\")\n",
    "plt.xlabel('Year')\n",
    "plt.xticks(rotation=60, horizontalalignment='right')\n",
    "plt.legend(bbox_to_anchor=(1.0, 0.85));"
   ]
  },
  {
   "cell_type": "markdown",
   "id": "48520ccf",
   "metadata": {
    "papermill": {
     "duration": 0.015946,
     "end_time": "2025-01-01T18:11:17.585730",
     "exception": false,
     "start_time": "2025-01-01T18:11:17.569784",
     "status": "completed"
    },
    "tags": []
   },
   "source": [
    "This plot shows that the first planets discovered using the pulsar timing method and have a relatively similar radius as that of Earth. In 1996, a \"streak\" of exoplanet discoveries are made that are commonly 11 to 14 times the radius of earth and this is done the transit method and radial velocity methods.\n",
    "\n",
    "In 2004, a second \"streak\" of planet discoveries are made which also have a similarly sized radius to that of Earth. Interestingly, there is a loosely populated gap between these two clusters in the range of 6 to 10 times the radius of Earth. A notable exception occured in 2016 when the planets discovered were in a range of sizes from approximately 1 to 20 times radius.\n",
    "\n",
    "One planet worth investigating further is the lone planet nearly 80 times the size of earth discovered in 2014. This could be a typo in the data set, or it could be a one of a kind discovery."
   ]
  },
  {
   "cell_type": "code",
   "execution_count": 24,
   "id": "39588816",
   "metadata": {
    "execution": {
     "iopub.execute_input": "2025-01-01T18:11:17.621840Z",
     "iopub.status.busy": "2025-01-01T18:11:17.620416Z",
     "iopub.status.idle": "2025-01-01T18:11:17.636943Z",
     "shell.execute_reply": "2025-01-01T18:11:17.635828Z"
    },
    "papermill": {
     "duration": 0.036801,
     "end_time": "2025-01-01T18:11:17.639305",
     "exception": false,
     "start_time": "2025-01-01T18:11:17.602504",
     "status": "completed"
    },
    "tags": []
   },
   "outputs": [
    {
     "data": {
      "text/html": [
       "<div>\n",
       "<style scoped>\n",
       "    .dataframe tbody tr th:only-of-type {\n",
       "        vertical-align: middle;\n",
       "    }\n",
       "\n",
       "    .dataframe tbody tr th {\n",
       "        vertical-align: top;\n",
       "    }\n",
       "\n",
       "    .dataframe thead th {\n",
       "        text-align: right;\n",
       "    }\n",
       "</style>\n",
       "<table border=\"1\" class=\"dataframe\">\n",
       "  <thead>\n",
       "    <tr style=\"text-align: right;\">\n",
       "      <th></th>\n",
       "      <th>pl_name</th>\n",
       "      <th>sy_snum</th>\n",
       "      <th>sy_pnum</th>\n",
       "      <th>discoverymethod</th>\n",
       "      <th>disc_year</th>\n",
       "      <th>disc_facility</th>\n",
       "      <th>disc_telescope</th>\n",
       "      <th>pl_orbper</th>\n",
       "      <th>pl_rade</th>\n",
       "      <th>pl_bmasse</th>\n",
       "      <th>sy_dist</th>\n",
       "    </tr>\n",
       "  </thead>\n",
       "  <tbody>\n",
       "    <tr>\n",
       "      <th>452</th>\n",
       "      <td>HD 100546 b</td>\n",
       "      <td>1</td>\n",
       "      <td>1</td>\n",
       "      <td>Imaging</td>\n",
       "      <td>2014</td>\n",
       "      <td>Paranal Observatory</td>\n",
       "      <td>8.2 m ESO VLT UT4 Yepun Telescope</td>\n",
       "      <td>NaN</td>\n",
       "      <td>77.342</td>\n",
       "      <td>239000.0</td>\n",
       "      <td>109.677</td>\n",
       "    </tr>\n",
       "  </tbody>\n",
       "</table>\n",
       "</div>"
      ],
      "text/plain": [
       "         pl_name  sy_snum  sy_pnum discoverymethod  disc_year  \\\n",
       "452  HD 100546 b        1        1         Imaging       2014   \n",
       "\n",
       "           disc_facility                     disc_telescope  pl_orbper  \\\n",
       "452  Paranal Observatory  8.2 m ESO VLT UT4 Yepun Telescope        NaN   \n",
       "\n",
       "     pl_rade  pl_bmasse  sy_dist  \n",
       "452   77.342   239000.0  109.677  "
      ]
     },
     "execution_count": 24,
     "metadata": {},
     "output_type": "execute_result"
    }
   ],
   "source": [
    "exoData.loc[exoData['pl_rade']== exoData['pl_rade'].max()]"
   ]
  },
  {
   "cell_type": "markdown",
   "id": "5a68dc65",
   "metadata": {
    "papermill": {
     "duration": 0.016685,
     "end_time": "2025-01-01T18:11:17.672599",
     "exception": false,
     "start_time": "2025-01-01T18:11:17.655914",
     "status": "completed"
    },
    "tags": []
   },
   "source": [
    "According to Quanz et al. (2015), HD 100546b has a radius of 6.9 R_jupiter. The conversion to Earth radius is 10.998"
   ]
  },
  {
   "cell_type": "code",
   "execution_count": 25,
   "id": "5c7534f7",
   "metadata": {
    "execution": {
     "iopub.execute_input": "2025-01-01T18:11:17.708139Z",
     "iopub.status.busy": "2025-01-01T18:11:17.707617Z",
     "iopub.status.idle": "2025-01-01T18:11:17.713546Z",
     "shell.execute_reply": "2025-01-01T18:11:17.712432Z"
    },
    "papermill": {
     "duration": 0.026244,
     "end_time": "2025-01-01T18:11:17.715865",
     "exception": false,
     "start_time": "2025-01-01T18:11:17.689621",
     "status": "completed"
    },
    "tags": []
   },
   "outputs": [
    {
     "name": "stdout",
     "output_type": "stream",
     "text": [
      "HD 100546 radius:  75.8862 R_earth\n"
     ]
    }
   ],
   "source": [
    "rJupiter = 6.9\n",
    "rEarth = rJupiter * 10.998\n",
    "print(\"HD 100546 radius: \", rEarth, \"R_earth\")"
   ]
  },
  {
   "cell_type": "markdown",
   "id": "ffe77c5e",
   "metadata": {
    "papermill": {
     "duration": 0.016911,
     "end_time": "2025-01-01T18:11:17.749363",
     "exception": false,
     "start_time": "2025-01-01T18:11:17.732452",
     "status": "completed"
    },
    "tags": []
   },
   "source": [
    "This value confirms the radius reported in the Nasa data set."
   ]
  },
  {
   "cell_type": "markdown",
   "id": "947750ab",
   "metadata": {
    "papermill": {
     "duration": 0.016553,
     "end_time": "2025-01-01T18:11:17.782475",
     "exception": false,
     "start_time": "2025-01-01T18:11:17.765922",
     "status": "completed"
    },
    "tags": []
   },
   "source": [
    "## 4.3 Field of Vision\n",
    "\n",
    "Space telescopes, like our eyes and cameras too, have limits to how far they can \"see\" into space. This is called \"field of vision\". The attribute \"sy_dist\" provides the distance each exoplanet system is from our own system in parsecs.\n",
    "\n",
    "The plot below shows how scientists field of vision has changed over time and is again colored by the discovery method used."
   ]
  },
  {
   "cell_type": "code",
   "execution_count": 26,
   "id": "9c785793",
   "metadata": {
    "execution": {
     "iopub.execute_input": "2025-01-01T18:11:17.817195Z",
     "iopub.status.busy": "2025-01-01T18:11:17.816841Z",
     "iopub.status.idle": "2025-01-01T18:11:19.011365Z",
     "shell.execute_reply": "2025-01-01T18:11:19.010217Z"
    },
    "papermill": {
     "duration": 1.215617,
     "end_time": "2025-01-01T18:11:19.014699",
     "exception": false,
     "start_time": "2025-01-01T18:11:17.799082",
     "status": "completed"
    },
    "tags": []
   },
   "outputs": [
    {
     "data": {
      "image/png": "[encoded data removed]",
      "text/plain": [
       "<Figure size 640x480 with 1 Axes>"
      ]
     },
     "metadata": {},
     "output_type": "display_data"
    }
   ],
   "source": [
    "# Plot the distance of each exoplanet as a function of the year it was discovered\n",
    "sns.stripplot(data = exoData, x='disc_year', y='sy_dist', jitter=0.3, hue='discoverymethod', alpha=0.85);\n",
    "plt.title(\"Distance From Earth\")\n",
    "plt.ylabel(\"(parsecs)\")\n",
    "plt.ylim(0,9000)\n",
    "plt.xlabel('Year')\n",
    "plt.xticks(rotation=60, horizontalalignment='right')\n",
    "plt.legend(bbox_to_anchor=(1.0, 0.85));"
   ]
  },
  {
   "cell_type": "code",
   "execution_count": 27,
   "id": "ad37a3b7",
   "metadata": {
    "execution": {
     "iopub.execute_input": "2025-01-01T18:11:19.053282Z",
     "iopub.status.busy": "2025-01-01T18:11:19.052940Z",
     "iopub.status.idle": "2025-01-01T18:11:19.068748Z",
     "shell.execute_reply": "2025-01-01T18:11:19.067514Z"
    },
    "papermill": {
     "duration": 0.037929,
     "end_time": "2025-01-01T18:11:19.071051",
     "exception": false,
     "start_time": "2025-01-01T18:11:19.033122",
     "status": "completed"
    },
    "tags": []
   },
   "outputs": [
    {
     "data": {
      "text/html": [
       "<div>\n",
       "<style scoped>\n",
       "    .dataframe tbody tr th:only-of-type {\n",
       "        vertical-align: middle;\n",
       "    }\n",
       "\n",
       "    .dataframe tbody tr th {\n",
       "        vertical-align: top;\n",
       "    }\n",
       "\n",
       "    .dataframe thead th {\n",
       "        text-align: right;\n",
       "    }\n",
       "</style>\n",
       "<table border=\"1\" class=\"dataframe\">\n",
       "  <thead>\n",
       "    <tr style=\"text-align: right;\">\n",
       "      <th></th>\n",
       "      <th>pl_name</th>\n",
       "      <th>sy_snum</th>\n",
       "      <th>sy_pnum</th>\n",
       "      <th>discoverymethod</th>\n",
       "      <th>disc_year</th>\n",
       "      <th>disc_facility</th>\n",
       "      <th>disc_telescope</th>\n",
       "      <th>pl_orbper</th>\n",
       "      <th>pl_rade</th>\n",
       "      <th>pl_bmasse</th>\n",
       "      <th>sy_dist</th>\n",
       "    </tr>\n",
       "  </thead>\n",
       "  <tbody>\n",
       "    <tr>\n",
       "      <th>4780</th>\n",
       "      <td>SWEEPS-11 b</td>\n",
       "      <td>1</td>\n",
       "      <td>1</td>\n",
       "      <td>Transit</td>\n",
       "      <td>2006</td>\n",
       "      <td>Hubble Space Telescope</td>\n",
       "      <td>2.4 m Hubble Space Telescope</td>\n",
       "      <td>1.796</td>\n",
       "      <td>12.666</td>\n",
       "      <td>3082.82</td>\n",
       "      <td>8500.0</td>\n",
       "    </tr>\n",
       "    <tr>\n",
       "      <th>4781</th>\n",
       "      <td>SWEEPS-4 b</td>\n",
       "      <td>1</td>\n",
       "      <td>1</td>\n",
       "      <td>Transit</td>\n",
       "      <td>2006</td>\n",
       "      <td>Hubble Space Telescope</td>\n",
       "      <td>2.4 m Hubble Space Telescope</td>\n",
       "      <td>4.200</td>\n",
       "      <td>9.079</td>\n",
       "      <td>1207.70</td>\n",
       "      <td>8500.0</td>\n",
       "    </tr>\n",
       "  </tbody>\n",
       "</table>\n",
       "</div>"
      ],
      "text/plain": [
       "          pl_name  sy_snum  sy_pnum discoverymethod  disc_year  \\\n",
       "4780  SWEEPS-11 b        1        1         Transit       2006   \n",
       "4781   SWEEPS-4 b        1        1         Transit       2006   \n",
       "\n",
       "               disc_facility                disc_telescope  pl_orbper  \\\n",
       "4780  Hubble Space Telescope  2.4 m Hubble Space Telescope      1.796   \n",
       "4781  Hubble Space Telescope  2.4 m Hubble Space Telescope      4.200   \n",
       "\n",
       "      pl_rade  pl_bmasse  sy_dist  \n",
       "4780   12.666    3082.82   8500.0  \n",
       "4781    9.079    1207.70   8500.0  "
      ]
     },
     "execution_count": 27,
     "metadata": {},
     "output_type": "execute_result"
    }
   ],
   "source": [
    "# Look up the planet(s) furthest from our system\n",
    "exoData.loc[exoData['sy_dist']==max(exoData['sy_dist'])]"
   ]
  },
  {
   "cell_type": "markdown",
   "id": "727f7e9f",
   "metadata": {
    "papermill": {
     "duration": 0.019045,
     "end_time": "2025-01-01T18:11:19.109015",
     "exception": false,
     "start_time": "2025-01-01T18:11:19.089970",
     "status": "completed"
    },
    "tags": []
   },
   "source": [
    "This plot suggests that the limit to how far we can see is 8500 parsecs. One parsec is equal to 3.26 light years, so the furthest planets we have seen are around 28,000 light years away.\n",
    "\n",
    "Interestingly, the microlensing method is by-in-large the most effective method for detecting planets beyond approximately 4000 parsecs. It was the transit method, however, that was responsible for the discovery of the two furthest exoplanets."
   ]
  },
  {
   "cell_type": "markdown",
   "id": "c3c24ed6",
   "metadata": {
    "papermill": {
     "duration": 0.018777,
     "end_time": "2025-01-01T18:11:19.146551",
     "exception": false,
     "start_time": "2025-01-01T18:11:19.127774",
     "status": "completed"
    },
    "tags": []
   },
   "source": [
    "# 5.0 Conclusion\n",
    "\n",
    "The science of confirming the existence of exoplanets is relatively young having began with the discovery of the first exoplanet only 31 years ago. Since then, numerous methods have been developed as well as telescopes in a wide range of sizes. Once scientists knew what to look for and developed state of the art tools to use thousands of planets have subsequently been found.\n",
    "\n",
    "The above plot of planet size and time show that our abilities have expanded over time. However, there are some gaps in the planet sizes scientists are finding. This may be due to limitations in the methods and telescopes themselves or it could be that there are physics at play that limit most planets to particular sizes. It may also be that scientists have only covered a portion of the sky and as other areas of space are explored the distribution of planet sizes will fill in.\n",
    "\n",
    "It is also apparent that the pursuit of exoplanet science requires investment. With the decommissioning of Kepler/K2 and the collapse of Arecibo it is clear that telescopes have a lifespan. The James Webb telescope recently took to the skies though is unrepresented in this data set. Many of the telescopes used for exoplanet discovery are aso used for exploring other aspects of the universe.\n",
    "\n",
    "Analyzing the telescopes themselves also revealed that a wide range of equipment can be used to look for exoplanets. Kepler's 0.95m telescope was used in discovering the majority of all exoplanets currently known. That is a relatively small telescope in comparison to Arecibo at 305m. Yet, the 80mm Mamiya that fits in the palm of an adult's hand can also be used to good effect.\n",
    "\n",
    "In future analysis, it would be interesting to see if the data set has a parameter that would allow for the isolation of planets within the habitable zone of their own solar systems. These planets may be worth further study to see if they could support life.\n",
    "\n",
    "If this history of exoplanet research is an indication of its future, there will likely be many more planets to analyze in years to come. Applying correlation analysis or k-means clustering may reveal even more about these distant planets."
   ]
  },
  {
   "cell_type": "markdown",
   "id": "462dd7cd",
   "metadata": {
    "papermill": {
     "duration": 0.018548,
     "end_time": "2025-01-01T18:11:19.184483",
     "exception": false,
     "start_time": "2025-01-01T18:11:19.165935",
     "status": "completed"
    },
    "tags": []
   },
   "source": [
    "# References\n",
    "\n",
    "1. How We Find and Characterize | Discovery – Exoplanet Exploration: Planets Beyond our Solar System. (n.d.). Exoplanet Exploration: Planets Beyond Our Solar System. https://exoplanets.nasa.gov/discovery/how-we-find-and-characterize/\n",
    "1. Kepler and K2 Missions. (n.d.). https://mobile.arc.nasa.gov/public/iexplore/missions/pages/39.htm\n",
    "1. Howell, E., & Stein, V. (2022). Arecibo Observatory: Watching for asteroids, waiting for E.T. Space.com. https://www.space.com/20984-arecibo-observatory.html\n",
    "1. Quanz, S. P., Amara, A., Meyer, M., Girard, J., Kenworthy, M. A., & Kasper, M. (2015). CONFIRMATION AND CHARACTERIZATION OF THE PROTOPLANET HD 100546 b—DIRECT EVIDENCE FOR GAS GIANT PLANET FORMATION AT 50 AU. The Astrophysical Journal, 807(1), 64. https://doi.org/10.1088/0004-637x/807/1/64"
   ]
  }
 ],
 "metadata": {
  "kaggle": {
   "accelerator": "none",
   "dataSources": [
    {
     "datasetId": 5214102,
     "sourceId": 8694683,
     "sourceType": "datasetVersion"
    }
   ],
   "dockerImageVersionId": 30732,
   "isGpuEnabled": false,
   "isInternetEnabled": false,
   "language": "python",
   "sourceType": "notebook"
  },
  "kernelspec": {
   "display_name": "Python 3",
   "language": "python",
   "name": "python3"
  },
  "language_info": {
   "codemirror_mode": {
    "name": "ipython",
    "version": 3
   },
   "file_extension": ".py",
   "mimetype": "text/x-python",
   "name": "python",
   "nbconvert_exporter": "python",
   "pygments_lexer": "ipython3",
   "version": "3.10.13"
  },
  "papermill": {
   "default_parameters": {},
   "duration": 13.227871,
   "end_time": "2025-01-01T18:11:19.824926",
   "environment_variables": {},
   "exception": null,
   "input_path": "__notebook__.ipynb",
   "output_path": "__notebook__.ipynb",
   "parameters": {},
   "start_time": "2025-01-01T18:11:06.597055",
   "version": "2.4.0"
  }
 },
 "nbformat": 4,
 "nbformat_minor": 5
}
